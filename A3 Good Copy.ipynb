{
 "cells": [
  {
   "cell_type": "code",
   "execution_count": 338,
   "metadata": {},
   "outputs": [
    {
     "data": {
      "text/plain": [
       "\"/home/jupyter/PharmacyEntry/Project.toml\""
      ]
     },
     "execution_count": 338,
     "metadata": {},
     "output_type": "execute_result"
    }
   ],
   "source": [
    "#Load and activate packages\n",
    "using Pkg \n",
    "Pkg.activate(\"..\")"
   ]
  },
  {
   "cell_type": "code",
   "execution_count": 339,
   "metadata": {},
   "outputs": [],
   "source": [
    "#Files we need\n",
    "using Revise\n",
    "if (!(\"../src\" ∈ LOAD_PATH))\n",
    "  push!(LOAD_PATH, \"../src\") \n",
    "end\n",
    "using PharmacyEntry"
   ]
  },
  {
   "cell_type": "code",
   "execution_count": 340,
   "metadata": {},
   "outputs": [],
   "source": [
    "#Just a quick check\n",
    "\n",
    "nb = PharmacyEntry.loadNBdata(false);\n",
    "bc = PharmacyEntry.loadBCdata(false);\n",
    "mb = PharmacyEntry.loadMBdata(false);\n",
    "nl = PharmacyEntry.loadNLdata(false);\n",
    "pe = PharmacyEntry.loadPEdata(false);"
   ]
  },
  {
   "cell_type": "code",
   "execution_count": 341,
   "metadata": {},
   "outputs": [],
   "source": [
    "using Statistics\n",
    "using CSV"
   ]
  },
  {
   "cell_type": "code",
   "execution_count": 342,
   "metadata": {},
   "outputs": [
    {
     "name": "stdout",
     "output_type": "stream",
     "text": [
      "reading pharmacy data from /home/jupyter/PharmacyEntry/data/pharmacies.csv\n"
     ]
    },
    {
     "name": "stderr",
     "output_type": "stream",
     "text": [
      "┌ Info: reading cleaned census data from /home/jupyter/PharmacyEntry/data/popcentres.csv\n",
      "└ @ PharmacyEntry /home/jupyter/PharmacyEntry/src/census.jl:145\n"
     ]
    },
    {
     "name": "stdout",
     "output_type": "stream",
     "text": [
      "mean(allProv[:zipmatch]) = 0.6708369283865401\n"
     ]
    },
    {
     "data": {
      "text/plain": [
       "0.6708369283865401"
      ]
     },
     "execution_count": 342,
     "metadata": {},
     "output_type": "execute_result"
    }
   ],
   "source": [
    "allProv = PharmacyEntry.loadpharmacydata();\n",
    "census = PharmacyEntry.loadcensusdata();\n",
    "\n",
    "checklatlng!(allProv, :lat, :lng, :zip)\n",
    "@show mean(allProv[:zipmatch])\n"
   ]
  },
  {
   "cell_type": "code",
   "execution_count": 343,
   "metadata": {},
   "outputs": [],
   "source": [
    "subset = (x->x ∈ [\"British Columbia\",\n",
    "                  \"Manitoba\",\n",
    "                  \"Manitoba/Saskatchewan\",\n",
    "                  \"New Brunswick\",\n",
    "                  \"Newfoundland and Labrador\",\n",
    "                  \"Prince Edward Island\"]).(census[:PROV_TERR_NAME_NOM] )\n",
    "df = census[subset,:]\n",
    "    \n",
    "    df[:pharmacies] = 0\n",
    "function pharmcount(lat, lng ; data = df) \n",
    "    function distance_m(lng, lat, zlng, zlat) # wasn't calling from geo.jl for some reason\n",
    "  if ismissing(lng) || ismissing(lat) || ismissing(zlng) || ismissing(zlat)\n",
    "    missing\n",
    "  else\n",
    "    Geodesy.distance(Geodesy.LLA(lng, lat), Geodesy.LLA(zlng,zlat))\n",
    "  end\n",
    "end\n",
    "  d = PharmacyEntry.distance_m.(lng, lat, data[:lng], data[:lat])\n",
    "  (dm, i) = findmin(d)\n",
    "  data[:pharmacies][i] = data[:pharmacies][i] + 1\n",
    "end\n",
    "    \n",
    "#Creating an array for logitude and latitude\n",
    "lat = allProv[:lat]\n",
    "lat[ismissing.(lat)] .= allProv[:ziplat][ismissing.(lat)]\n",
    "lng = allProv[:lng]\n",
    "lng[ismissing.(lng)] .= allProv[:ziplng][ismissing.(lng)]\n",
    "\n",
    "pharmcount.(lat,lng)\n",
    "CSV.write(\"cleandata.csv\",df);"
   ]
  },
  {
   "cell_type": "code",
   "execution_count": 344,
   "metadata": {},
   "outputs": [],
   "source": [
    "#So not this is our new clean data frame with 221 metropolitan centres and the \n",
    "#the amount of corresponding pharmacies in each\n",
    "\n",
    "CleanData = df;"
   ]
  },
  {
   "cell_type": "code",
   "execution_count": 345,
   "metadata": {},
   "outputs": [
    {
     "data": {
      "text/plain": [
       "brentrymodel"
      ]
     },
     "execution_count": 345,
     "metadata": {},
     "output_type": "execute_result"
    }
   ],
   "source": [
    "using Distributions, DataFrames\n",
    "\n",
    "\"\"\"\n",
    "         brentrymodel(data::AbstractDataFrame,\n",
    "                      n::Symbol,\n",
    "                      s::Symbol,\n",
    "                      x::Array{Symbol,1},\n",
    "                      w::Array{Symbol,1};\n",
    "                      Fϵ)\n",
    "\n",
    "Create loglikelihood for Bresnehan & Reiss style entry model\n",
    "\n",
    "Inputs:\n",
    "- `data` DataFrame \n",
    "- `n` name of number of firm variable in data\n",
    "- `s` name of market size variable in data\n",
    "- `x` array of names of variable profit shifters\n",
    "- `w` array of names of fixed cost shifters \n",
    "- `Fϵ` cdf of ϵ, optional, defaults to standard normal cdf\n",
    "\n",
    "The same variables may be included in both `x` and `w`.\n",
    "\"\"\"\n",
    "function brentrymodel(data::AbstractDataFrame,\n",
    "                      n::Symbol,\n",
    "                      s::Symbol,\n",
    "                      x::Array{Symbol,1},\n",
    "                      w::Array{Symbol,1};\n",
    "                      Fϵ = x->cdf(Normal(),x))\n",
    "  # skip observations with missings\n",
    "  vars = unique([n, s, x..., w...])\n",
    "  inc = completecases(data[vars])\n",
    "\n",
    "  N = disallowmissing(data[n][inc])\n",
    "  S = disallowmissing(data[s][inc])\n",
    "  X = disallowmissing(convert(Matrix, data[x][inc,:]))\n",
    "  W = disallowmissing(convert(Matrix, data[w][inc,:]))\n",
    "  Nmax = maximum(N)\n",
    "  function packparam(α,β,γ,δ)\n",
    "    θ = [α;β;γ;δ]\n",
    "  end\n",
    "  function unpackparam(θ)\n",
    "    α = θ[1:Nmax]\n",
    "    β = θ[(Nmax+1):(Nmax+size(X,2))]\n",
    "    γ = θ[(Nmax+size(X,2)+1):(Nmax+size(X,2)+Nmax)]\n",
    "    δ = θ[(Nmax+size(X,2)+Nmax+1):end]\n",
    "    (α,β,γ,δ)\n",
    "  end\n",
    "\n",
    "  # While maximizing the likelihood some parameters might result in\n",
    "  # the likelihood being 0 (or very close to 0) taking log would \n",
    "  # create problems. Use logfinite from PharmacyEntry.jl instead\n",
    "  logf = logfinite(exp(-100.0) ) # could adjust the exp(-100.0)\n",
    "\n",
    "  function loglike(θ)\n",
    "    (α,β,γ,δ) = unpackparam(θ)\n",
    "           \n",
    "    P = Array{eltype(θ),1}(undef,length(N)) \n",
    "\n",
    "    for i in 1:length(N)\n",
    "        if N[i]==0\n",
    "            n = N[i]\n",
    "            P[i] = Fϵ(-(S[i]*(α[1]+sum(X[i,:].*β))-(γ[1]+sum(W[i,:].*δ))))\n",
    "    \n",
    "        elseif N[i]==Nmax\n",
    "            n = N[i]\n",
    "            P[i] = 1-Fϵ(-(S[i]*((α[1]+sum(X[i,:].*β)+sum(α[2:n])))-(γ[1]+sum(W[i,:].*δ)+sum(γ[2:n]))))\n",
    "            \n",
    "        else\n",
    "            n = N[i]\n",
    "            P[i] = Fϵ(-(S[i]*(α[1]+sum(X[i,:].*β)+sum(α[2:n+1]))-(γ[1]+sum(W[i,:].*δ)+sum(γ[2:n+1]))))-Fϵ(-(S[i]*(α[1]+sum(X[i,:].*β)+sum(α[2:n]))-(γ[1]+sum(W[i,:].*δ)+sum(γ[2:n]))))\n",
    "        end               \n",
    "    end\n",
    "    return(mean(logf.(P)))             \n",
    "  end\n",
    "    return(loglike=loglike, unpack=unpackparam, pack=packparam)\n",
    "end"
   ]
  },
  {
   "cell_type": "markdown",
   "metadata": {},
   "source": [
    "### Problem 2: estimate on simulated data "
   ]
  },
  {
   "cell_type": "code",
   "execution_count": 346,
   "metadata": {},
   "outputs": [
    {
     "name": "stdout",
     "output_type": "stream",
     "text": [
      "Distribution of number of firms\n"
     ]
    }
   ],
   "source": [
    "# Simulating data\n",
    "using DataFrames, Statistics, StatsBase\n",
    "import CSV\n",
    "df = CSV.read(\"cleandata.csv\")\n",
    "\n",
    "# Important to scale variables to avoid numerical problems in both\n",
    "# simulation & estimation\n",
    "df[:pop10k] = df[Symbol(\"Population, 2016\")]./10000\n",
    "df[:logpop10k] = log.(df[:pop10k])\n",
    "df[:income10k] = df[Symbol(\"Average total income in 2015 among recipients (\\$)\")]./10000\n",
    "df[:density1k] = df[Symbol(\"Population density per square kilometre\")]./1000\n",
    "df[:logdensity] = log.(df[:density1k])\n",
    "df[:logarea] = log.(df[Symbol(\"Land area in square kilometres\")])\n",
    "df[:mediumage] = df[Symbol(\"15 to 64 years\")]./100\n",
    "# parameters for simulation\n",
    "n_obs_sim = 10000 # you might want to adjust this. You want it to be\n",
    "                # large enough that your estimates are close to the\n",
    "                # true values, but small enough that it doesn't take\n",
    "                # too long to estimate\n",
    "\n",
    "# the maximum number of pharmacies in the simulated data will be\n",
    "# length(α) + 1\n",
    "α = [1.0, -1.0]\n",
    "γ = [1.0, 1.0]\n",
    "# you may have to adjust the parameters to get a reasonable distribution of\n",
    "# number of pharmacies across markets\n",
    "svar = :pop10k\n",
    "β = [1.0, 1.0]\n",
    "xvars = [:income10k,\n",
    "         :mediumage]\n",
    "δ = [1.0, 1.0]\n",
    "wvars = [:logdensity,\n",
    "         :logarea]\n",
    "simdf = df[sample(1:nrow(df), n_obs_sim),:]\n",
    "\n",
    "simdf[:nsim] = brentrysim(simdf, svar, xvars, wvars, α,β,γ,δ)\n",
    "println(\"Distribution of number of firms\")"
   ]
  },
  {
   "cell_type": "code",
   "execution_count": 347,
   "metadata": {},
   "outputs": [
    {
     "name": "stdout",
     "output_type": "stream",
     "text": [
      "0.43\n",
      "0.2615\n",
      "0.3085\n"
     ]
    }
   ],
   "source": [
    "for i in 0:length(α)\n",
    "  println(\"$(mean(simdf[:nsim].==i))\") \n",
    "end"
   ]
  },
  {
   "cell_type": "code",
   "execution_count": 348,
   "metadata": {},
   "outputs": [
    {
     "data": {
      "text/plain": [
       "-0.6424985179708318"
      ]
     },
     "execution_count": 348,
     "metadata": {},
     "output_type": "execute_result"
    }
   ],
   "source": [
    "(loglike, unpack, pack) = brentrymodel(simdf, :nsim, svar, xvars, wvars)\n",
    "θ0 = pack(α,β,γ,δ)\n",
    "loglike(θ0)"
   ]
  },
  {
   "cell_type": "markdown",
   "metadata": {},
   "source": [
    "To estimate from the simulated data, you could do the following."
   ]
  },
  {
   "cell_type": "code",
   "execution_count": 349,
   "metadata": {},
   "outputs": [
    {
     "name": "stdout",
     "output_type": "stream",
     "text": [
      "Iter     Function value   Gradient norm \n",
      "     0     6.424985e-01     1.682008e-02\n",
      "     1     6.424390e-01     6.593116e-03\n",
      "     2     6.422767e-01     2.077515e-03\n",
      "     3     6.422002e-01     7.225123e-03\n",
      "     4     6.421648e-01     3.491131e-03\n",
      "     5     6.420795e-01     1.110681e-03\n",
      "     6     6.420745e-01     1.782356e-03\n",
      "     7     6.420664e-01     2.047087e-04\n",
      "     8     6.420643e-01     2.047581e-03\n",
      "     9     6.420539e-01     1.929309e-04\n",
      "    10     6.420533e-01     6.438564e-04\n",
      "    11     6.420405e-01     1.335118e-04\n",
      "    12     6.420405e-01     3.241849e-05\n",
      "    13     6.420403e-01     7.805210e-05\n",
      "    14     6.420350e-01     1.355272e-04\n",
      "    15     6.420350e-01     8.200059e-08\n",
      "    16     6.420350e-01     2.703209e-10\n"
     ]
    },
    {
     "data": {
      "text/plain": [
       "Results of Optimization Algorithm\n",
       " * Algorithm: BFGS\n",
       " * Starting Point: [1.0,-1.0,1.0,1.0,1.0,1.0,1.0,1.0]\n",
       " * Minimizer: [1.0019431034459867,-1.1780022078176702, ...]\n",
       " * Minimum: 6.420350e-01\n",
       " * Iterations: 16\n",
       " * Convergence: true\n",
       "   * |x - x'| ≤ 0.0e+00: false \n",
       "     |x - x'| = 1.02e-05 \n",
       "   * |f(x) - f(x')| ≤ 0.0e+00 |f(x)|: false\n",
       "     |f(x) - f(x')| = 9.16e-14 |f(x)|\n",
       "   * |g(x)| ≤ 1.0e-08: true \n",
       "     |g(x)| = 2.70e-10 \n",
       "   * Stopped by an increasing objective: false\n",
       "   * Reached Maximum Number of Iterations: false\n",
       " * Objective Calls: 61\n",
       " * Gradient Calls: 61"
      ]
     },
     "execution_count": 349,
     "metadata": {},
     "output_type": "execute_result"
    }
   ],
   "source": [
    "using Optim, ForwardDiff, LinearAlgebra, PrettyTables\n",
    "try \n",
    "  using EntrySolution\n",
    "  # this contains my code for the likelihood and\n",
    "  # it's intentionally not included in the assignment\n",
    "catch\n",
    "end\n",
    "\n",
    "(loglike, unpack, pack) = brentrymodel(simdf, :nsim, svar, xvars, wvars)\n",
    "θ0 = pack(α,β,γ,δ)\n",
    "loglike(θ0)\n",
    "\n",
    "# initial values --- note that you may run into optimization problems\n",
    "# with poor initial values. This is especially likely if\n",
    "# s*cumsum(α)[c] - cumsum(γ)[c] is not decreasing with c. You can\n",
    "# ensure this by making α < 0 and γ>0\n",
    "βi = zeros(size(β))\n",
    "δi = zeros(size(δ))\n",
    "αi = zeros(size(α))\n",
    "γi = ones(size(γ))\n",
    "θi = pack(αi, βi, γi, δi);\n",
    "loglike(θi)\n",
    "\n",
    " res = optimize((x)->(-loglike(x)), θ0, method=BFGS(),\n",
    "               autodiff=:forward, show_trace=true)"
   ]
  },
  {
   "cell_type": "code",
   "execution_count": 350,
   "metadata": {},
   "outputs": [
    {
     "data": {
      "text/plain": [
       "([1.00194, -1.178], [0.933308, 1.34225], [1.01188, 0.938837], [0.95299, 0.95089])"
      ]
     },
     "execution_count": 350,
     "metadata": {},
     "output_type": "execute_result"
    }
   ],
   "source": [
    "# if you have problems, maybe look at one parameter at a time, e.g.\n",
    "# res = optimize((x)->(-loglike(pack(α, β, x, δ))), γ, method=BFGS(), autodiff=:forward, show_trace=true) \n",
    "θhat = res.minimizer\n",
    "(αhat, βhat, γhat, δhat) = unpack(θhat)"
   ]
  },
  {
   "cell_type": "code",
   "execution_count": 351,
   "metadata": {},
   "outputs": [],
   "source": [
    "# calculate standard errors\n",
    "H = ForwardDiff.hessian(loglike,θhat);"
   ]
  },
  {
   "cell_type": "code",
   "execution_count": 352,
   "metadata": {},
   "outputs": [],
   "source": [
    "Varθ = -inv(H)./nrow(simdf);\n",
    "(seα, seβ, seγ, seδ) = unpack(sqrt.(diag(Varθ)))\n",
    "\n",
    "# Print a nice(ish) table\n",
    "header= [\"Parameter\", \"Truth\", \"Estimate\", \"(SE)\"];\n",
    "param = [[\"α[$i]\" for i in eachindex(α)];\n",
    "         [\"β[$i]\" for i in eachindex(β)];\n",
    "         [\"γ[$i]\" for i in eachindex(γ)];\n",
    "         [\"δ[$i]\" for i in eachindex(δ)]];\n",
    "# highlight estimates that reject H0 : estimate = true at 99% level\n",
    "h1 = Highlighter(\n",
    "  f = (tbl, i, j)->( (j==3 || j==4) &&\n",
    "                   abs((tbl[i,2]-tbl[i,3])/tbl[i,4]).>quantile(Normal(),\n",
    "                                                               0.995)),\n",
    "  crayon = crayon\"red bold\"\n",
    ");"
   ]
  },
  {
   "cell_type": "code",
   "execution_count": 353,
   "metadata": {},
   "outputs": [
    {
     "name": "stdout",
     "output_type": "stream",
     "text": [
      "┌\u001b[0m───────────\u001b[0m┬\u001b[0m───────\u001b[0m┬\u001b[0m──────────\u001b[0m┬\u001b[0m─────────\u001b[0m┐\u001b[0m\n",
      "│\u001b[0m\u001b[1m Parameter \u001b[0m│\u001b[0m\u001b[1m Truth \u001b[0m│\u001b[0m\u001b[1m Estimate \u001b[0m│\u001b[0m\u001b[1m    (SE) \u001b[0m│\u001b[0m\n",
      "├\u001b[0m───────────\u001b[0m┼\u001b[0m───────\u001b[0m┼\u001b[0m──────────\u001b[0m┼\u001b[0m─────────\u001b[0m┤\u001b[0m\n",
      "│\u001b[0m      α[1] \u001b[0m│\u001b[0m   1.0 \u001b[0m│\u001b[0m    1.002 \u001b[0m│\u001b[0m (0.419) \u001b[0m│\u001b[0m\n",
      "│\u001b[0m      α[2] \u001b[0m│\u001b[0m  -1.0 \u001b[0m│\u001b[0m   -1.178 \u001b[0m│\u001b[0m (0.115) \u001b[0m│\u001b[0m\n",
      "│\u001b[0m      β[1] \u001b[0m│\u001b[0m   1.0 \u001b[0m│\u001b[0m    0.933 \u001b[0m│\u001b[0m (0.059) \u001b[0m│\u001b[0m\n",
      "│\u001b[0m      β[2] \u001b[0m│\u001b[0m   1.0 \u001b[0m│\u001b[0m    1.342 \u001b[0m│\u001b[0m  (0.72) \u001b[0m│\u001b[0m\n",
      "│\u001b[0m      γ[1] \u001b[0m│\u001b[0m   1.0 \u001b[0m│\u001b[0m    1.012 \u001b[0m│\u001b[0m (0.032) \u001b[0m│\u001b[0m\n",
      "│\u001b[0m      γ[2] \u001b[0m│\u001b[0m   1.0 \u001b[0m│\u001b[0m    0.939 \u001b[0m│\u001b[0m (0.041) \u001b[0m│\u001b[0m\n",
      "│\u001b[0m      δ[1] \u001b[0m│\u001b[0m   1.0 \u001b[0m│\u001b[0m    0.953 \u001b[0m│\u001b[0m (0.072) \u001b[0m│\u001b[0m\n",
      "│\u001b[0m      δ[2] \u001b[0m│\u001b[0m   1.0 \u001b[0m│\u001b[0m    0.951 \u001b[0m│\u001b[0m (0.067) \u001b[0m│\u001b[0m\n",
      "└\u001b[0m───────────\u001b[0m┴\u001b[0m───────\u001b[0m┴\u001b[0m──────────\u001b[0m┴\u001b[0m─────────\u001b[0m┘\u001b[0m\n"
     ]
    }
   ],
   "source": [
    "#Now to create the table\n",
    "\n",
    "tbl = pretty_table(hcat(param, θ0, θhat, sqrt.(diag(Varθ))), header,\n",
    "                   formatter = Dict(3 => (v,i) -> round(v,digits=3),\n",
    "                                    4 => (v,i) -> \"($(round(v,digits=3)))\"),\n",
    "                   highlighters=tuple(h1))"
   ]
  },
  {
   "cell_type": "markdown",
   "metadata": {},
   "source": [
    "The parameters that are not well identified are alpha and gamma. If population centres are the same size \n",
    "then the constant made up of the alphas and gammas on aggregate are identical in both scenarios. The only time we see any difference that can be used to identify them seperatly is when populations between markets vary. \n"
   ]
  },
  {
   "cell_type": "markdown",
   "metadata": {},
   "source": [
    "### Problem 3: estimation"
   ]
  },
  {
   "cell_type": "code",
   "execution_count": 354,
   "metadata": {},
   "outputs": [
    {
     "name": "stdout",
     "output_type": "stream",
     "text": [
      "Iter     Function value   Gradient norm \n",
      "     0     5.724176e+00     4.010268e+00\n",
      "     1     2.928765e+00     1.642377e+00\n",
      "     2     2.032282e+00     3.340251e-01\n",
      "     3     1.873068e+00     1.138290e-01\n",
      "     4     1.817295e+00     9.198978e-02\n",
      "     5     1.790223e+00     6.302633e-02\n",
      "     6     1.757164e+00     1.105219e-01\n",
      "     7     1.721488e+00     1.443997e-01\n",
      "     8     1.687153e+00     9.997047e-02\n",
      "     9     1.666399e+00     4.497394e-02\n",
      "    10     1.661190e+00     1.318535e-02\n",
      "    11     1.659806e+00     1.912748e-02\n",
      "    12     1.657516e+00     9.622165e-03\n",
      "    13     1.656144e+00     1.307003e-02\n",
      "    14     1.653207e+00     2.472720e-02\n",
      "    15     1.650986e+00     1.398697e-02\n",
      "    16     1.650586e+00     4.598764e-03\n",
      "    17     1.650437e+00     5.994618e-03\n",
      "    18     1.649966e+00     1.477829e-02\n",
      "    19     1.649392e+00     5.526064e-03\n",
      "    20     1.649115e+00     9.833485e-03\n",
      "    21     1.648966e+00     6.354381e-03\n",
      "    22     1.647898e+00     1.758396e-02\n",
      "    23     1.647130e+00     5.484913e-03\n",
      "    24     1.646909e+00     4.451315e-03\n",
      "    25     1.646614e+00     1.244193e-02\n",
      "    26     1.643348e+00     2.001562e-02\n",
      "    27     1.642364e+00     2.978601e-03\n",
      "    28     1.642324e+00     2.430817e-03\n",
      "    29     1.641741e+00     1.129305e-02\n",
      "    30     1.641534e+00     2.539233e-03\n",
      "    31     1.641503e+00     1.683359e-03\n",
      "    32     1.641212e+00     1.056107e-02\n",
      "    33     1.640998e+00     1.069421e-03\n",
      "    34     1.640991e+00     1.184601e-03\n",
      "    35     1.640804e+00     1.007869e-02\n",
      "    36     1.639991e+00     4.455686e-03\n",
      "    37     1.639957e+00     5.295954e-04\n",
      "    38     1.639955e+00     6.391484e-04\n",
      "    39     1.639919e+00     2.138732e-03\n",
      "    40     1.638524e+00     6.553797e-03\n",
      "    41     1.637838e+00     6.326747e-04\n",
      "    42     1.637836e+00     1.648735e-04\n",
      "    43     1.637836e+00     1.622497e-04\n",
      "    44     1.637828e+00     1.587176e-03\n",
      "    45     1.637271e+00     6.270999e-03\n",
      "    46     1.637227e+00     2.235672e-04\n",
      "    47     1.637227e+00     3.570596e-06\n",
      "    48     1.637227e+00     6.269416e-08\n",
      "    49     1.637227e+00     9.945284e-10\n"
     ]
    },
    {
     "data": {
      "text/plain": [
       "Results of Optimization Algorithm\n",
       " * Algorithm: BFGS\n",
       " * Starting Point: [1.0,-1.0, ...]\n",
       " * Minimizer: [3.4903881868047026,0.43029305418130387, ...]\n",
       " * Minimum: 1.637227e+00\n",
       " * Iterations: 49\n",
       " * Convergence: true\n",
       "   * |x - x'| ≤ 0.0e+00: false \n",
       "     |x - x'| = 1.74e-06 \n",
       "   * |f(x) - f(x')| ≤ 0.0e+00 |f(x)|: false\n",
       "     |f(x) - f(x')| = 6.78e-15 |f(x)|\n",
       "   * |g(x)| ≤ 1.0e-08: true \n",
       "     |g(x)| = 9.95e-10 \n",
       "   * Stopped by an increasing objective: false\n",
       "   * Reached Maximum Number of Iterations: false\n",
       " * Objective Calls: 168\n",
       " * Gradient Calls: 168"
      ]
     },
     "execution_count": 354,
     "metadata": {},
     "output_type": "execute_result"
    }
   ],
   "source": [
    "CleanData = CSV.read(\"cleandata.csv\")\n",
    "\n",
    "#In the paper they drop all markets that have then 5 firms to enable the estimation. Here, we can do \n",
    "#something similar and drop all markets that have more then 7 firms. \n",
    "#So this will drop the rows we don't want\n",
    "\n",
    "CleanData1 = CleanData[CleanData[:pharmacies].<7,:]\n",
    "\n",
    "# Scale the variables we want to use\n",
    "\n",
    "CleanData1[:pop10k] = CleanData1[Symbol(\"Population, 2016\")]./10000\n",
    "CleanData1[:logpop10k] = log.(CleanData1[:pop10k])\n",
    "CleanData1[:income10k] = CleanData1[Symbol(\"Average total income in 2015 among recipients (\\$)\")]./10000\n",
    "CleanData1[:density1k] = CleanData1[Symbol(\"Population density per square kilometre\")]./1000\n",
    "CleanData1[:logdensity] = log.(CleanData1[:density1k])\n",
    "CleanData1[:logarea] = log.(CleanData1[Symbol(\"Land area in square kilometres\")])\n",
    "CleanData1[:mediumage] = CleanData1[Symbol(\"15 to 64 years\")]./100\n",
    "\n",
    "#Also going to add a few more cost/revenue shifters\n",
    "CleanData1[:employment] = CleanData1[Symbol(\"Employment rate\")]./100 #More employment means more health insurance\n",
    "CleanData1[:old] = CleanData1[Symbol(\"65 years and over\")]./CleanData1[Symbol(\"Population, 2016\")] #A higher percentage of older people means higher demand\n",
    "CleanData1[:commute] = CleanData1[Symbol(\"Total - Commuting duration for the employed labour force aged 15 years and over in private households with a usual place of work or no fixed workplace address - 25% sample data\")]./CleanData1[Symbol(\"Population, 2016\")]\n",
    "#If people are commuting longer distances on a daly basis, they might be more willing to commute to \n",
    "#a pharmacy in a dfferenct population centre\n",
    "CleanData1[:doctors] = CleanData1[Symbol(\"Degree in medicine, dentistry, veterinary medicine or optometry\")]\n",
    "\n",
    "n = :pharmacies\n",
    "x = [:income10k, :mediumage, :employment, :commute]\n",
    "s = :pop10k\n",
    "w = [:logdensity, :logarea]\n",
    "\n",
    "α = -ones(maximum(CleanData1[:pharmacies]))\n",
    "α[1] = 1\n",
    "γ = ones(maximum(CleanData1[:pharmacies]))\n",
    "B = ones(size(x))\n",
    "δ = ones(size(x))\n",
    "θ = pack(α,β,γ,δ)\n",
    "\n",
    "(loglike, unpack, pack) = brentrymodel(CleanData1, n, s, x, w)\n",
    "θ = pack(α, β, γ, δ)\n",
    "loglike(θ)\n",
    "\n",
    "res = optimize((x)->(-loglike(x)), θ, method=BFGS(),\n",
    "               autodiff=:forward, show_trace=true)"
   ]
  },
  {
   "cell_type": "code",
   "execution_count": 355,
   "metadata": {},
   "outputs": [
    {
     "data": {
      "text/plain": [
       "([3.49039, 0.430293, 0.168896, -0.933682, -0.296856, 0.145686], [-0.443105, 4.78348, -9.19141, 6.7511], [-0.212687, 0.72135, 0.890186, 0.348256, 0.393451, 0.632923], [-0.0955533, -0.365076])"
      ]
     },
     "execution_count": 355,
     "metadata": {},
     "output_type": "execute_result"
    }
   ],
   "source": [
    "# if you have problems, maybe look at one parameter at a time, e.g.\n",
    "# res = optimize((x)->(-loglike(pack(α, β, x, δ))), γ, method=BFGS(), autodiff=:forward, show_trace=true) \n",
    "θhat = res.minimizer\n",
    "(αhat, βhat, γhat, δhat) = unpack(θhat)"
   ]
  },
  {
   "cell_type": "code",
   "execution_count": 356,
   "metadata": {},
   "outputs": [],
   "source": [
    "# calculate standard errors\n",
    "H = ForwardDiff.hessian(loglike,θhat);\n",
    "Varθ = -inv(H)./nrow(simdf);\n",
    "(seα, seβ, seγ, seδ) = unpack(sqrt.(diag(Varθ)));"
   ]
  },
  {
   "cell_type": "code",
   "execution_count": 357,
   "metadata": {},
   "outputs": [
    {
     "name": "stdout",
     "output_type": "stream",
     "text": [
      "┌\u001b[0m───────────\u001b[0m┬\u001b[0m───────\u001b[0m┬\u001b[0m──────────\u001b[0m┬\u001b[0m─────────\u001b[0m┐\u001b[0m\n",
      "│\u001b[0m\u001b[1m Parameter \u001b[0m│\u001b[0m\u001b[1m Truth \u001b[0m│\u001b[0m\u001b[1m Estimate \u001b[0m│\u001b[0m\u001b[1m    (SE) \u001b[0m│\u001b[0m\n",
      "├\u001b[0m───────────\u001b[0m┼\u001b[0m───────\u001b[0m┼\u001b[0m──────────\u001b[0m┼\u001b[0m─────────\u001b[0m┤\u001b[0m\n",
      "│\u001b[0m      α[1] \u001b[0m│\u001b[0m   1.0 \u001b[0m│\u001b[0m     3.49 \u001b[0m│\u001b[0m (0.383) \u001b[0m│\u001b[0m\n",
      "│\u001b[0m      α[2] \u001b[0m│\u001b[0m  -1.0 \u001b[0m│\u001b[0m     0.43 \u001b[0m│\u001b[0m (0.092) \u001b[0m│\u001b[0m\n",
      "│\u001b[0m      α[3] \u001b[0m│\u001b[0m  -1.0 \u001b[0m│\u001b[0m    0.169 \u001b[0m│\u001b[0m (0.115) \u001b[0m│\u001b[0m\n",
      "│\u001b[0m      α[4] \u001b[0m│\u001b[0m  -1.0 \u001b[0m│\u001b[0m   -0.934 \u001b[0m│\u001b[0m (0.077) \u001b[0m│\u001b[0m\n",
      "│\u001b[0m      α[5] \u001b[0m│\u001b[0m  -1.0 \u001b[0m│\u001b[0m   -0.297 \u001b[0m│\u001b[0m (0.047) \u001b[0m│\u001b[0m\n",
      "│\u001b[0m      α[6] \u001b[0m│\u001b[0m  -1.0 \u001b[0m│\u001b[0m    0.146 \u001b[0m│\u001b[0m (0.049) \u001b[0m│\u001b[0m\n",
      "│\u001b[0m      β[1] \u001b[0m│\u001b[0m   1.0 \u001b[0m│\u001b[0m   -0.443 \u001b[0m│\u001b[0m (0.046) \u001b[0m│\u001b[0m\n",
      "│\u001b[0m      β[2] \u001b[0m│\u001b[0m   1.0 \u001b[0m│\u001b[0m    4.783 \u001b[0m│\u001b[0m (0.845) \u001b[0m│\u001b[0m\n",
      "│\u001b[0m      γ[1] \u001b[0m│\u001b[0m   1.0 \u001b[0m│\u001b[0m   -9.191 \u001b[0m│\u001b[0m (0.929) \u001b[0m│\u001b[0m\n",
      "│\u001b[0m      γ[2] \u001b[0m│\u001b[0m   1.0 \u001b[0m│\u001b[0m    6.751 \u001b[0m│\u001b[0m (1.593) \u001b[0m│\u001b[0m\n",
      "│\u001b[0m      γ[3] \u001b[0m│\u001b[0m   1.0 \u001b[0m│\u001b[0m   -0.213 \u001b[0m│\u001b[0m (0.034) \u001b[0m│\u001b[0m\n",
      "│\u001b[0m      γ[4] \u001b[0m│\u001b[0m   1.0 \u001b[0m│\u001b[0m    0.721 \u001b[0m│\u001b[0m (0.025) \u001b[0m│\u001b[0m\n",
      "│\u001b[0m      γ[5] \u001b[0m│\u001b[0m   1.0 \u001b[0m│\u001b[0m     0.89 \u001b[0m│\u001b[0m (0.032) \u001b[0m│\u001b[0m\n",
      "│\u001b[0m      γ[6] \u001b[0m│\u001b[0m   1.0 \u001b[0m│\u001b[0m    0.348 \u001b[0m│\u001b[0m (0.025) \u001b[0m│\u001b[0m\n",
      "│\u001b[0m      δ[1] \u001b[0m│\u001b[0m   1.0 \u001b[0m│\u001b[0m    0.393 \u001b[0m│\u001b[0m (0.023) \u001b[0m│\u001b[0m\n",
      "│\u001b[0m      δ[2] \u001b[0m│\u001b[0m   1.0 \u001b[0m│\u001b[0m    0.633 \u001b[0m│\u001b[0m (0.033) \u001b[0m│\u001b[0m\n",
      "│\u001b[0m     ⋮     \u001b[0m│\u001b[0m   ⋮   \u001b[0m│\u001b[0m    ⋮     \u001b[0m│\u001b[0m    ⋮    \u001b[0m│\u001b[0m\n",
      "└\u001b[0m───────────\u001b[0m┴\u001b[0m───────\u001b[0m┴\u001b[0m──────────\u001b[0m┴\u001b[0m─────────\u001b[0m┘\u001b[0m\n"
     ]
    }
   ],
   "source": [
    "# Print a nice(ish) table\n",
    "header= [\"Parameter\", \"Truth\", \"Estimate\", \"(SE)\"];\n",
    "param = [[\"α[$i]\" for i in eachindex(α)];\n",
    "         [\"β[$i]\" for i in eachindex(β)];\n",
    "         [\"γ[$i]\" for i in eachindex(γ)];\n",
    "         [\"δ[$i]\" for i in eachindex(δ)]];\n",
    "# highlight estimates that reject H0 : estimate = true at 99% level\n",
    "\n",
    "tbl1 = pretty_table(hcat(param, θ, θhat, sqrt.(diag(Varθ))), header,\n",
    "                   formatter = Dict(3 => (v,i) -> round(v,digits=3),\n",
    "                                    4 => (v,i) -> \"($(round(v,digits=3)))\"))\n"
   ]
  },
  {
   "cell_type": "markdown",
   "metadata": {},
   "source": [
    "### Problem 4: Model Fit"
   ]
  },
  {
   "cell_type": "code",
   "execution_count": 358,
   "metadata": {},
   "outputs": [
    {
     "data": {
      "text/plain": [
       "1×1 Array{Float64,2}:\n",
       " 0.5856434822956599"
      ]
     },
     "execution_count": 358,
     "metadata": {},
     "output_type": "execute_result"
    }
   ],
   "source": [
    "#First lets fit the number of pharmacies using the model specified above \n",
    "\n",
    "vars = unique([s, x..., w...])\n",
    "  inc = completecases(CleanData1[vars])\n",
    "  S = disallowmissing(CleanData1[s][inc])\n",
    "  X = disallowmissing(convert(Matrix, CleanData1[x][inc,:]))\n",
    "  W = disallowmissing(convert(Matrix, CleanData1[w][inc,:]))\n",
    "  ϵ = rand(distϵ, length(S))\n",
    "  \n",
    "  π0 = S.*(X*βhat) - W*δhat\n",
    "  π = similar(π0, length(S), length(αhat)+1)\n",
    "  for n in 1:length(α)\n",
    "    π[:,n] = π0 + S*sum(αhat[1:n]) .- sum(γhat[1:n])\n",
    "  end\n",
    "  π[:,length(αhat)+1] .= -1.0\n",
    "  n = mapslices(x->findfirst(x.<0), π, dims=2)\n",
    "  n = n .- 1;\n",
    "\n",
    "cor(n, CleanData1[:pharmacies])"
   ]
  },
  {
   "cell_type": "code",
   "execution_count": 359,
   "metadata": {},
   "outputs": [],
   "source": [
    "#Now take our fitted number of pharmacies and add it into out CleanData\n",
    "n1 = zeros(length(n))\n",
    "for i in 1:length(n)\n",
    "    n1[i] = n[i]\n",
    "end\n",
    "nhat1 = n1;\n",
    "\n",
    "CleanData1[:nhat1] = nhat1;"
   ]
  },
  {
   "cell_type": "code",
   "execution_count": 360,
   "metadata": {},
   "outputs": [
    {
     "data": {
      "text/plain": [
       "ols_fitted (generic function with 1 method)"
      ]
     },
     "execution_count": 360,
     "metadata": {},
     "output_type": "execute_result"
    }
   ],
   "source": [
    "#Now lets run OLS using the revenue and cost shifters and see how well these predict the number of firms in each market.\n",
    "#Then we will use this 'fitted number of firms' and compare the fit of the OLS model to the fit of the model used in the paper.\n",
    "\n",
    "\n",
    "function ols_fitted(data::DataFrame,  y::Symbol,\n",
    "                       x::Array{Symbol,1};\n",
    "\n",
    "                       intercept::Bool=true  \n",
    "                       )\n",
    "  inc = completecases(data[[y, x...]]) # deal with missing\n",
    "  Y = disallowmissing(data[y][inc])\n",
    "  if (intercept) \n",
    "    X = [ones(sum(inc)) data[x][inc,:]]\n",
    "  else\n",
    "    X = data[x][inc,:]\n",
    "  end\n",
    "  X = disallowmissing(convert(Matrix, X))\n",
    "  \n",
    "  β = X \\ Y \n",
    "  Y = X*β  \n",
    "    return(Y)\n",
    "  end\n",
    "\n"
   ]
  },
  {
   "cell_type": "code",
   "execution_count": 361,
   "metadata": {},
   "outputs": [
    {
     "data": {
      "text/plain": [
       "0.5974301639702914"
      ]
     },
     "execution_count": 361,
     "metadata": {},
     "output_type": "execute_result"
    }
   ],
   "source": [
    "#This generate the fitted value for number of pharmacies in each market using OLS\n",
    "\n",
    "nhatO = ols_fitted(CleanData1, :pharmacies, [:income10k, \n",
    "        :mediumage, \n",
    "        :employment, \n",
    "        :commute,\n",
    "        :pop10k,\n",
    "        :logdensity, \n",
    "        :logarea]);\n",
    "\n",
    "cor(nhatO, CleanData1[:pharmacies])"
   ]
  },
  {
   "cell_type": "code",
   "execution_count": 362,
   "metadata": {},
   "outputs": [],
   "source": [
    "#also I want to add the OLS fitted values as a column in the CleanData Data Frame\n",
    "#This will make it easier to make a grouped bar chart\n",
    "\n",
    "CleanData1[:nhatO] = nhatO;"
   ]
  },
  {
   "cell_type": "code",
   "execution_count": 363,
   "metadata": {},
   "outputs": [],
   "source": [
    "#Now I want to assign population groups as we did in the data prep\n",
    "\n",
    "\n",
    "rename!(CleanData1, [x => replace(string(x), \"Population, 2016\" => \"pop2016\")|> Symbol for x in names(CleanData1)]);\n",
    "\n",
    "#Now assign each population centre into a population group\n",
    "\n",
    "CleanData1[:group] = 1\n",
    "    for i = 1:length(CleanData1[:pop2016])\n",
    "if  (CleanData1[:pop2016][i] >= 0) & (CleanData1[:pop2016][i] < 2500)\n",
    "        CleanData1[:group][i] = 1 \n",
    "            elseif (CleanData1[:pop2016][i] >= 2500) & (CleanData1[:pop2016][i] < 5000)\n",
    "                    CleanData1[:group][i] = 2\n",
    "                elseif (CleanData1[:pop2016][i] >= 5000) & (CleanData1[:pop2016][i] < 7500)\n",
    "                    CleanData1[:group][i] = 3\n",
    "                      elseif (CleanData1[:pop2016][i] >= 7500) & (CleanData1[:pop2016][i] < 10000)\n",
    "                    CleanData1[:group][i] =4\n",
    "                        elseif (CleanData1[:pop2016][i] >= 10000) & (CleanData1[:pop2016][i] < 12500)\n",
    "                    CleanData1[:group][i] = 5\n",
    "                             elseif (CleanData1[:pop2016][i] >= 12500) & (CleanData1[:pop2016][i] < 15000)\n",
    "                    CleanData1[:group][i] =6\n",
    "                        else \n",
    "                           CleanData1[:group][i] =  7\n",
    "        end\n",
    "    end"
   ]
  },
  {
   "cell_type": "code",
   "execution_count": 364,
   "metadata": {},
   "outputs": [],
   "source": [
    "#for the actual number of pharmacies\n",
    "df1 = by(CleanData1,[:group],CleanData1->mean(CleanData1[:pharmacies]));\n",
    "df1[:method] = \"actual\"\n",
    "df1;\n",
    "\n",
    "#for the OLS fitted values of number of pharmacies\n",
    "df2 = by(CleanData1,[:group],CleanData1->mean(CleanData1[:nhatO]));\n",
    "df2[:method] = \"OLS Fitted\"\n",
    "df2;\n",
    "\n",
    "#for the fitted values as specified by the model in the paper\n",
    "df3 = by(CleanData1,[:group],CleanData1->mean(CleanData1[:nhat1]));\n",
    "df3[:method] = \"Model Fitted\"\n",
    "df3;"
   ]
  },
  {
   "cell_type": "code",
   "execution_count": 365,
   "metadata": {},
   "outputs": [
    {
     "data": {
      "text/html": [
       "<table class=\"data-frame\"><thead><tr><th></th><th>group</th><th>x1</th><th>method</th></tr><tr><th></th><th>Int64</th><th>Float64</th><th>String</th></tr></thead><tbody><p>21 rows × 3 columns</p><tr><th>1</th><td>2</td><td>2.78049</td><td>actual</td></tr><tr><th>2</th><td>3</td><td>3.45455</td><td>actual</td></tr><tr><th>3</th><td>1</td><td>1.87654</td><td>actual</td></tr><tr><th>4</th><td>4</td><td>4.44444</td><td>actual</td></tr><tr><th>5</th><td>5</td><td>5.0</td><td>actual</td></tr><tr><th>6</th><td>7</td><td>5.0</td><td>actual</td></tr><tr><th>7</th><td>6</td><td>5.66667</td><td>actual</td></tr><tr><th>8</th><td>2</td><td>2.91686</td><td>OLS Fitted</td></tr><tr><th>9</th><td>3</td><td>3.69851</td><td>OLS Fitted</td></tr><tr><th>10</th><td>1</td><td>1.82086</td><td>OLS Fitted</td></tr><tr><th>11</th><td>4</td><td>4.2443</td><td>OLS Fitted</td></tr><tr><th>12</th><td>5</td><td>4.74356</td><td>OLS Fitted</td></tr><tr><th>13</th><td>7</td><td>5.39133</td><td>OLS Fitted</td></tr><tr><th>14</th><td>6</td><td>5.00781</td><td>OLS Fitted</td></tr><tr><th>15</th><td>2</td><td>2.7561</td><td>Model Fitted</td></tr><tr><th>16</th><td>3</td><td>3.81818</td><td>Model Fitted</td></tr><tr><th>17</th><td>1</td><td>1.74074</td><td>Model Fitted</td></tr><tr><th>18</th><td>4</td><td>4.44444</td><td>Model Fitted</td></tr><tr><th>19</th><td>5</td><td>5.66667</td><td>Model Fitted</td></tr><tr><th>20</th><td>7</td><td>5.0</td><td>Model Fitted</td></tr><tr><th>21</th><td>6</td><td>5.33333</td><td>Model Fitted</td></tr></tbody></table>"
      ],
      "text/latex": [
       "\\begin{tabular}{r|ccc}\n",
       "\t& group & x1 & method\\\\\n",
       "\t\\hline\n",
       "\t& Int64 & Float64 & String\\\\\n",
       "\t\\hline\n",
       "\t1 & 2 & 2.78049 & actual \\\\\n",
       "\t2 & 3 & 3.45455 & actual \\\\\n",
       "\t3 & 1 & 1.87654 & actual \\\\\n",
       "\t4 & 4 & 4.44444 & actual \\\\\n",
       "\t5 & 5 & 5.0 & actual \\\\\n",
       "\t6 & 7 & 5.0 & actual \\\\\n",
       "\t7 & 6 & 5.66667 & actual \\\\\n",
       "\t8 & 2 & 2.91686 & OLS Fitted \\\\\n",
       "\t9 & 3 & 3.69851 & OLS Fitted \\\\\n",
       "\t10 & 1 & 1.82086 & OLS Fitted \\\\\n",
       "\t11 & 4 & 4.2443 & OLS Fitted \\\\\n",
       "\t12 & 5 & 4.74356 & OLS Fitted \\\\\n",
       "\t13 & 7 & 5.39133 & OLS Fitted \\\\\n",
       "\t14 & 6 & 5.00781 & OLS Fitted \\\\\n",
       "\t15 & 2 & 2.7561 & Model Fitted \\\\\n",
       "\t16 & 3 & 3.81818 & Model Fitted \\\\\n",
       "\t17 & 1 & 1.74074 & Model Fitted \\\\\n",
       "\t18 & 4 & 4.44444 & Model Fitted \\\\\n",
       "\t19 & 5 & 5.66667 & Model Fitted \\\\\n",
       "\t20 & 7 & 5.0 & Model Fitted \\\\\n",
       "\t21 & 6 & 5.33333 & Model Fitted \\\\\n",
       "\\end{tabular}\n"
      ],
      "text/plain": [
       "21×3 DataFrame\n",
       "│ Row │ group │ x1      │ method       │\n",
       "│     │ \u001b[90mInt64\u001b[39m │ \u001b[90mFloat64\u001b[39m │ \u001b[90mString\u001b[39m       │\n",
       "├─────┼───────┼─────────┼──────────────┤\n",
       "│ 1   │ 2     │ 2.78049 │ actual       │\n",
       "│ 2   │ 3     │ 3.45455 │ actual       │\n",
       "│ 3   │ 1     │ 1.87654 │ actual       │\n",
       "│ 4   │ 4     │ 4.44444 │ actual       │\n",
       "│ 5   │ 5     │ 5.0     │ actual       │\n",
       "│ 6   │ 7     │ 5.0     │ actual       │\n",
       "│ 7   │ 6     │ 5.66667 │ actual       │\n",
       "│ 8   │ 2     │ 2.91686 │ OLS Fitted   │\n",
       "│ 9   │ 3     │ 3.69851 │ OLS Fitted   │\n",
       "│ 10  │ 1     │ 1.82086 │ OLS Fitted   │\n",
       "│ 11  │ 4     │ 4.2443  │ OLS Fitted   │\n",
       "│ 12  │ 5     │ 4.74356 │ OLS Fitted   │\n",
       "│ 13  │ 7     │ 5.39133 │ OLS Fitted   │\n",
       "│ 14  │ 6     │ 5.00781 │ OLS Fitted   │\n",
       "│ 15  │ 2     │ 2.7561  │ Model Fitted │\n",
       "│ 16  │ 3     │ 3.81818 │ Model Fitted │\n",
       "│ 17  │ 1     │ 1.74074 │ Model Fitted │\n",
       "│ 18  │ 4     │ 4.44444 │ Model Fitted │\n",
       "│ 19  │ 5     │ 5.66667 │ Model Fitted │\n",
       "│ 20  │ 7     │ 5.0     │ Model Fitted │\n",
       "│ 21  │ 6     │ 5.33333 │ Model Fitted │"
      ]
     },
     "execution_count": 365,
     "metadata": {},
     "output_type": "execute_result"
    }
   ],
   "source": [
    "df = vcat(df1, df2, df3)"
   ]
  },
  {
   "cell_type": "code",
   "execution_count": 366,
   "metadata": {},
   "outputs": [
    {
     "name": "stdout",
     "output_type": "stream",
     "text": [
      "\u001b[32m\u001b[1m Resolving\u001b[22m\u001b[39m package versions...\n",
      "\u001b[32m\u001b[1m  Updating\u001b[22m\u001b[39m `~/PharmacyEntry/Project.toml`\n",
      "\u001b[90m [no changes]\u001b[39m\n",
      "\u001b[32m\u001b[1m  Updating\u001b[22m\u001b[39m `~/PharmacyEntry/Manifest.toml`\n",
      "\u001b[90m [no changes]\u001b[39m\n",
      "\u001b[32m\u001b[1m Resolving\u001b[22m\u001b[39m package versions...\n",
      "\u001b[32m\u001b[1m  Updating\u001b[22m\u001b[39m `~/PharmacyEntry/Project.toml`\n",
      "\u001b[90m [no changes]\u001b[39m\n",
      "\u001b[32m\u001b[1m  Updating\u001b[22m\u001b[39m `~/PharmacyEntry/Manifest.toml`\n",
      "\u001b[90m [no changes]\u001b[39m\n"
     ]
    }
   ],
   "source": [
    "#Now to make a grouped bar chart that shows the fitted vs actual values for the different population groups\n",
    "Pkg.add(\"VegaLite\")\n",
    "Pkg.add(\"StatPlots\")\n",
    "using VegaLite\n",
    "using StatPlots"
   ]
  },
  {
   "cell_type": "code",
   "execution_count": 367,
   "metadata": {},
   "outputs": [
    {
     "data": {
      "image/svg+xml": [
       "<?xml version=\"1.0\" encoding=\"utf-8\"?>\n",
       "<svg xmlns=\"http://www.w3.org/2000/svg\" xmlns:xlink=\"http://www.w3.org/1999/xlink\" width=\"600\" height=\"400\" viewBox=\"0 0 2400 1600\">\n",
       "<defs>\n",
       "  <clipPath id=\"clip3700\">\n",
       "    <rect x=\"0\" y=\"0\" width=\"2000\" height=\"2000\"/>\n",
       "  </clipPath>\n",
       "</defs>\n",
       "<defs>\n",
       "  <clipPath id=\"clip3701\">\n",
       "    <rect x=\"0\" y=\"0\" width=\"2400\" height=\"1600\"/>\n",
       "  </clipPath>\n",
       "</defs>\n",
       "<polygon clip-path=\"url(#clip3701)\" points=\"\n",
       "0,1600 2400,1600 2400,0 0,0 \n",
       "  \" fill=\"#ffffff\" fill-rule=\"evenodd\" fill-opacity=\"1\"/>\n",
       "<defs>\n",
       "  <clipPath id=\"clip3702\">\n",
       "    <rect x=\"480\" y=\"0\" width=\"1681\" height=\"1600\"/>\n",
       "  </clipPath>\n",
       "</defs>\n",
       "<polygon clip-path=\"url(#clip3701)\" points=\"\n",
       "184.243,1440.48 2321.26,1440.48 2321.26,125.984 184.243,125.984 \n",
       "  \" fill=\"#ffffff\" fill-rule=\"evenodd\" fill-opacity=\"1\"/>\n",
       "<defs>\n",
       "  <clipPath id=\"clip3703\">\n",
       "    <rect x=\"184\" y=\"125\" width=\"2138\" height=\"1315\"/>\n",
       "  </clipPath>\n",
       "</defs>\n",
       "<polyline clip-path=\"url(#clip3703)\" style=\"stroke:#000000; stroke-width:2; stroke-opacity:0.1; fill:none\" points=\"\n",
       "  409.919,1440.48 409.919,125.984 \n",
       "  \"/>\n",
       "<polyline clip-path=\"url(#clip3703)\" style=\"stroke:#000000; stroke-width:2; stroke-opacity:0.1; fill:none\" points=\"\n",
       "  690.863,1440.48 690.863,125.984 \n",
       "  \"/>\n",
       "<polyline clip-path=\"url(#clip3703)\" style=\"stroke:#000000; stroke-width:2; stroke-opacity:0.1; fill:none\" points=\"\n",
       "  971.807,1440.48 971.807,125.984 \n",
       "  \"/>\n",
       "<polyline clip-path=\"url(#clip3703)\" style=\"stroke:#000000; stroke-width:2; stroke-opacity:0.1; fill:none\" points=\"\n",
       "  1252.75,1440.48 1252.75,125.984 \n",
       "  \"/>\n",
       "<polyline clip-path=\"url(#clip3703)\" style=\"stroke:#000000; stroke-width:2; stroke-opacity:0.1; fill:none\" points=\"\n",
       "  1533.7,1440.48 1533.7,125.984 \n",
       "  \"/>\n",
       "<polyline clip-path=\"url(#clip3703)\" style=\"stroke:#000000; stroke-width:2; stroke-opacity:0.1; fill:none\" points=\"\n",
       "  1814.64,1440.48 1814.64,125.984 \n",
       "  \"/>\n",
       "<polyline clip-path=\"url(#clip3703)\" style=\"stroke:#000000; stroke-width:2; stroke-opacity:0.1; fill:none\" points=\"\n",
       "  2095.58,1440.48 2095.58,125.984 \n",
       "  \"/>\n",
       "<polyline clip-path=\"url(#clip3703)\" style=\"stroke:#000000; stroke-width:2; stroke-opacity:0.1; fill:none\" points=\"\n",
       "  184.243,1403.28 2321.26,1403.28 \n",
       "  \"/>\n",
       "<polyline clip-path=\"url(#clip3703)\" style=\"stroke:#000000; stroke-width:2; stroke-opacity:0.1; fill:none\" points=\"\n",
       "  184.243,1184.44 2321.26,1184.44 \n",
       "  \"/>\n",
       "<polyline clip-path=\"url(#clip3703)\" style=\"stroke:#000000; stroke-width:2; stroke-opacity:0.1; fill:none\" points=\"\n",
       "  184.243,965.6 2321.26,965.6 \n",
       "  \"/>\n",
       "<polyline clip-path=\"url(#clip3703)\" style=\"stroke:#000000; stroke-width:2; stroke-opacity:0.1; fill:none\" points=\"\n",
       "  184.243,746.76 2321.26,746.76 \n",
       "  \"/>\n",
       "<polyline clip-path=\"url(#clip3703)\" style=\"stroke:#000000; stroke-width:2; stroke-opacity:0.1; fill:none\" points=\"\n",
       "  184.243,527.92 2321.26,527.92 \n",
       "  \"/>\n",
       "<polyline clip-path=\"url(#clip3703)\" style=\"stroke:#000000; stroke-width:2; stroke-opacity:0.1; fill:none\" points=\"\n",
       "  184.243,309.08 2321.26,309.08 \n",
       "  \"/>\n",
       "<polyline clip-path=\"url(#clip3701)\" style=\"stroke:#000000; stroke-width:4; stroke-opacity:1; fill:none\" points=\"\n",
       "  184.243,1440.48 2321.26,1440.48 \n",
       "  \"/>\n",
       "<polyline clip-path=\"url(#clip3701)\" style=\"stroke:#000000; stroke-width:4; stroke-opacity:1; fill:none\" points=\"\n",
       "  184.243,1440.48 184.243,125.984 \n",
       "  \"/>\n",
       "<polyline clip-path=\"url(#clip3701)\" style=\"stroke:#000000; stroke-width:4; stroke-opacity:1; fill:none\" points=\"\n",
       "  409.919,1440.48 409.919,1420.77 \n",
       "  \"/>\n",
       "<polyline clip-path=\"url(#clip3701)\" style=\"stroke:#000000; stroke-width:4; stroke-opacity:1; fill:none\" points=\"\n",
       "  690.863,1440.48 690.863,1420.77 \n",
       "  \"/>\n",
       "<polyline clip-path=\"url(#clip3701)\" style=\"stroke:#000000; stroke-width:4; stroke-opacity:1; fill:none\" points=\"\n",
       "  971.807,1440.48 971.807,1420.77 \n",
       "  \"/>\n",
       "<polyline clip-path=\"url(#clip3701)\" style=\"stroke:#000000; stroke-width:4; stroke-opacity:1; fill:none\" points=\"\n",
       "  1252.75,1440.48 1252.75,1420.77 \n",
       "  \"/>\n",
       "<polyline clip-path=\"url(#clip3701)\" style=\"stroke:#000000; stroke-width:4; stroke-opacity:1; fill:none\" points=\"\n",
       "  1533.7,1440.48 1533.7,1420.77 \n",
       "  \"/>\n",
       "<polyline clip-path=\"url(#clip3701)\" style=\"stroke:#000000; stroke-width:4; stroke-opacity:1; fill:none\" points=\"\n",
       "  1814.64,1440.48 1814.64,1420.77 \n",
       "  \"/>\n",
       "<polyline clip-path=\"url(#clip3701)\" style=\"stroke:#000000; stroke-width:4; stroke-opacity:1; fill:none\" points=\"\n",
       "  2095.58,1440.48 2095.58,1420.77 \n",
       "  \"/>\n",
       "<polyline clip-path=\"url(#clip3701)\" style=\"stroke:#000000; stroke-width:4; stroke-opacity:1; fill:none\" points=\"\n",
       "  184.243,1403.28 216.298,1403.28 \n",
       "  \"/>\n",
       "<polyline clip-path=\"url(#clip3701)\" style=\"stroke:#000000; stroke-width:4; stroke-opacity:1; fill:none\" points=\"\n",
       "  184.243,1184.44 216.298,1184.44 \n",
       "  \"/>\n",
       "<polyline clip-path=\"url(#clip3701)\" style=\"stroke:#000000; stroke-width:4; stroke-opacity:1; fill:none\" points=\"\n",
       "  184.243,965.6 216.298,965.6 \n",
       "  \"/>\n",
       "<polyline clip-path=\"url(#clip3701)\" style=\"stroke:#000000; stroke-width:4; stroke-opacity:1; fill:none\" points=\"\n",
       "  184.243,746.76 216.298,746.76 \n",
       "  \"/>\n",
       "<polyline clip-path=\"url(#clip3701)\" style=\"stroke:#000000; stroke-width:4; stroke-opacity:1; fill:none\" points=\"\n",
       "  184.243,527.92 216.298,527.92 \n",
       "  \"/>\n",
       "<polyline clip-path=\"url(#clip3701)\" style=\"stroke:#000000; stroke-width:4; stroke-opacity:1; fill:none\" points=\"\n",
       "  184.243,309.08 216.298,309.08 \n",
       "  \"/>\n",
       "<g clip-path=\"url(#clip3701)\">\n",
       "<text style=\"fill:#000000; fill-opacity:1; font-family:Arial,Helvetica Neue,Helvetica,sans-serif; font-size:48px; text-anchor:middle;\" transform=\"rotate(0, 409.919, 1494.48)\" x=\"409.919\" y=\"1494.48\">1</text>\n",
       "</g>\n",
       "<g clip-path=\"url(#clip3701)\">\n",
       "<text style=\"fill:#000000; fill-opacity:1; font-family:Arial,Helvetica Neue,Helvetica,sans-serif; font-size:48px; text-anchor:middle;\" transform=\"rotate(0, 690.863, 1494.48)\" x=\"690.863\" y=\"1494.48\">2</text>\n",
       "</g>\n",
       "<g clip-path=\"url(#clip3701)\">\n",
       "<text style=\"fill:#000000; fill-opacity:1; font-family:Arial,Helvetica Neue,Helvetica,sans-serif; font-size:48px; text-anchor:middle;\" transform=\"rotate(0, 971.807, 1494.48)\" x=\"971.807\" y=\"1494.48\">3</text>\n",
       "</g>\n",
       "<g clip-path=\"url(#clip3701)\">\n",
       "<text style=\"fill:#000000; fill-opacity:1; font-family:Arial,Helvetica Neue,Helvetica,sans-serif; font-size:48px; text-anchor:middle;\" transform=\"rotate(0, 1252.75, 1494.48)\" x=\"1252.75\" y=\"1494.48\">4</text>\n",
       "</g>\n",
       "<g clip-path=\"url(#clip3701)\">\n",
       "<text style=\"fill:#000000; fill-opacity:1; font-family:Arial,Helvetica Neue,Helvetica,sans-serif; font-size:48px; text-anchor:middle;\" transform=\"rotate(0, 1533.7, 1494.48)\" x=\"1533.7\" y=\"1494.48\">5</text>\n",
       "</g>\n",
       "<g clip-path=\"url(#clip3701)\">\n",
       "<text style=\"fill:#000000; fill-opacity:1; font-family:Arial,Helvetica Neue,Helvetica,sans-serif; font-size:48px; text-anchor:middle;\" transform=\"rotate(0, 1814.64, 1494.48)\" x=\"1814.64\" y=\"1494.48\">6</text>\n",
       "</g>\n",
       "<g clip-path=\"url(#clip3701)\">\n",
       "<text style=\"fill:#000000; fill-opacity:1; font-family:Arial,Helvetica Neue,Helvetica,sans-serif; font-size:48px; text-anchor:middle;\" transform=\"rotate(0, 2095.58, 1494.48)\" x=\"2095.58\" y=\"1494.48\">7</text>\n",
       "</g>\n",
       "<g clip-path=\"url(#clip3701)\">\n",
       "<text style=\"fill:#000000; fill-opacity:1; font-family:Arial,Helvetica Neue,Helvetica,sans-serif; font-size:48px; text-anchor:end;\" transform=\"rotate(0, 160.243, 1420.78)\" x=\"160.243\" y=\"1420.78\">0</text>\n",
       "</g>\n",
       "<g clip-path=\"url(#clip3701)\">\n",
       "<text style=\"fill:#000000; fill-opacity:1; font-family:Arial,Helvetica Neue,Helvetica,sans-serif; font-size:48px; text-anchor:end;\" transform=\"rotate(0, 160.243, 1201.94)\" x=\"160.243\" y=\"1201.94\">1</text>\n",
       "</g>\n",
       "<g clip-path=\"url(#clip3701)\">\n",
       "<text style=\"fill:#000000; fill-opacity:1; font-family:Arial,Helvetica Neue,Helvetica,sans-serif; font-size:48px; text-anchor:end;\" transform=\"rotate(0, 160.243, 983.1)\" x=\"160.243\" y=\"983.1\">2</text>\n",
       "</g>\n",
       "<g clip-path=\"url(#clip3701)\">\n",
       "<text style=\"fill:#000000; fill-opacity:1; font-family:Arial,Helvetica Neue,Helvetica,sans-serif; font-size:48px; text-anchor:end;\" transform=\"rotate(0, 160.243, 764.26)\" x=\"160.243\" y=\"764.26\">3</text>\n",
       "</g>\n",
       "<g clip-path=\"url(#clip3701)\">\n",
       "<text style=\"fill:#000000; fill-opacity:1; font-family:Arial,Helvetica Neue,Helvetica,sans-serif; font-size:48px; text-anchor:end;\" transform=\"rotate(0, 160.243, 545.42)\" x=\"160.243\" y=\"545.42\">4</text>\n",
       "</g>\n",
       "<g clip-path=\"url(#clip3701)\">\n",
       "<text style=\"fill:#000000; fill-opacity:1; font-family:Arial,Helvetica Neue,Helvetica,sans-serif; font-size:48px; text-anchor:end;\" transform=\"rotate(0, 160.243, 326.58)\" x=\"160.243\" y=\"326.58\">5</text>\n",
       "</g>\n",
       "<g clip-path=\"url(#clip3701)\">\n",
       "<text style=\"fill:#000000; fill-opacity:1; font-family:Arial,Helvetica Neue,Helvetica,sans-serif; font-size:84px; text-anchor:middle;\" transform=\"rotate(0, 1252.75, 73.2)\" x=\"1252.75\" y=\"73.2\">Model Fit 1</text>\n",
       "</g>\n",
       "<g clip-path=\"url(#clip3701)\">\n",
       "<text style=\"fill:#000000; fill-opacity:1; font-family:Arial,Helvetica Neue,Helvetica,sans-serif; font-size:66px; text-anchor:middle;\" transform=\"rotate(0, 1252.75, 1590.4)\" x=\"1252.75\" y=\"1590.4\">Population Group</text>\n",
       "</g>\n",
       "<g clip-path=\"url(#clip3701)\">\n",
       "<text style=\"fill:#000000; fill-opacity:1; font-family:Arial,Helvetica Neue,Helvetica,sans-serif; font-size:66px; text-anchor:middle;\" transform=\"rotate(-90, 57.6, 783.233)\" x=\"57.6\" y=\"783.233\">Number of Pharmacies</text>\n",
       "</g>\n",
       "<polygon clip-path=\"url(#clip3703)\" points=\"\n",
       "297.542,1022.34 297.542,1403.28 372.46,1403.28 372.46,1022.34 297.542,1022.34 297.542,1022.34 \n",
       "  \" fill=\"#009af9\" fill-rule=\"evenodd\" fill-opacity=\"1\"/>\n",
       "<polyline clip-path=\"url(#clip3703)\" style=\"stroke:#000000; stroke-width:4; stroke-opacity:1; fill:none\" points=\"\n",
       "  297.542,1022.34 297.542,1403.28 372.46,1403.28 372.46,1022.34 297.542,1022.34 \n",
       "  \"/>\n",
       "<polygon clip-path=\"url(#clip3703)\" points=\"\n",
       "578.486,800.136 578.486,1403.28 653.404,1403.28 653.404,800.136 578.486,800.136 578.486,800.136 \n",
       "  \" fill=\"#009af9\" fill-rule=\"evenodd\" fill-opacity=\"1\"/>\n",
       "<polyline clip-path=\"url(#clip3703)\" style=\"stroke:#000000; stroke-width:4; stroke-opacity:1; fill:none\" points=\"\n",
       "  578.486,800.136 578.486,1403.28 653.404,1403.28 653.404,800.136 578.486,800.136 \n",
       "  \"/>\n",
       "<polygon clip-path=\"url(#clip3703)\" points=\"\n",
       "859.43,567.709 859.43,1403.28 934.348,1403.28 934.348,567.709 859.43,567.709 859.43,567.709 \n",
       "  \" fill=\"#009af9\" fill-rule=\"evenodd\" fill-opacity=\"1\"/>\n",
       "<polyline clip-path=\"url(#clip3703)\" style=\"stroke:#000000; stroke-width:4; stroke-opacity:1; fill:none\" points=\"\n",
       "  859.43,567.709 859.43,1403.28 934.348,1403.28 934.348,567.709 859.43,567.709 \n",
       "  \"/>\n",
       "<polygon clip-path=\"url(#clip3703)\" points=\"\n",
       "1140.37,430.658 1140.37,1403.28 1215.29,1403.28 1215.29,430.658 1140.37,430.658 1140.37,430.658 \n",
       "  \" fill=\"#009af9\" fill-rule=\"evenodd\" fill-opacity=\"1\"/>\n",
       "<polyline clip-path=\"url(#clip3703)\" style=\"stroke:#000000; stroke-width:4; stroke-opacity:1; fill:none\" points=\"\n",
       "  1140.37,430.658 1140.37,1403.28 1215.29,1403.28 1215.29,430.658 1140.37,430.658 \n",
       "  \"/>\n",
       "<polygon clip-path=\"url(#clip3703)\" points=\"\n",
       "1421.32,163.187 1421.32,1403.28 1496.24,1403.28 1496.24,163.187 1421.32,163.187 1421.32,163.187 \n",
       "  \" fill=\"#009af9\" fill-rule=\"evenodd\" fill-opacity=\"1\"/>\n",
       "<polyline clip-path=\"url(#clip3703)\" style=\"stroke:#000000; stroke-width:4; stroke-opacity:1; fill:none\" points=\"\n",
       "  1421.32,163.187 1421.32,1403.28 1496.24,1403.28 1496.24,163.187 1421.32,163.187 \n",
       "  \"/>\n",
       "<polygon clip-path=\"url(#clip3703)\" points=\"\n",
       "1702.26,236.134 1702.26,1403.28 1777.18,1403.28 1777.18,236.134 1702.26,236.134 1702.26,236.134 \n",
       "  \" fill=\"#009af9\" fill-rule=\"evenodd\" fill-opacity=\"1\"/>\n",
       "<polyline clip-path=\"url(#clip3703)\" style=\"stroke:#000000; stroke-width:4; stroke-opacity:1; fill:none\" points=\"\n",
       "  1702.26,236.134 1702.26,1403.28 1777.18,1403.28 1777.18,236.134 1702.26,236.134 \n",
       "  \"/>\n",
       "<polygon clip-path=\"url(#clip3703)\" points=\"\n",
       "1983.21,309.08 1983.21,1403.28 2058.12,1403.28 2058.12,309.08 1983.21,309.08 1983.21,309.08 \n",
       "  \" fill=\"#009af9\" fill-rule=\"evenodd\" fill-opacity=\"1\"/>\n",
       "<polyline clip-path=\"url(#clip3703)\" style=\"stroke:#000000; stroke-width:4; stroke-opacity:1; fill:none\" points=\"\n",
       "  1983.21,309.08 1983.21,1403.28 2058.12,1403.28 2058.12,309.08 1983.21,309.08 \n",
       "  \"/>\n",
       "<polygon clip-path=\"url(#clip3703)\" points=\"\n",
       "372.46,1004.8 372.46,1403.28 447.379,1403.28 447.379,1004.8 372.46,1004.8 372.46,1004.8 \n",
       "  \" fill=\"#e26f46\" fill-rule=\"evenodd\" fill-opacity=\"1\"/>\n",
       "<polyline clip-path=\"url(#clip3703)\" style=\"stroke:#000000; stroke-width:4; stroke-opacity:1; fill:none\" points=\"\n",
       "  372.46,1004.8 372.46,1403.28 447.379,1403.28 447.379,1004.8 372.46,1004.8 \n",
       "  \"/>\n",
       "<polygon clip-path=\"url(#clip3703)\" points=\"\n",
       "653.404,764.955 653.404,1403.28 728.322,1403.28 728.322,764.955 653.404,764.955 653.404,764.955 \n",
       "  \" fill=\"#e26f46\" fill-rule=\"evenodd\" fill-opacity=\"1\"/>\n",
       "<polyline clip-path=\"url(#clip3703)\" style=\"stroke:#000000; stroke-width:4; stroke-opacity:1; fill:none\" points=\"\n",
       "  653.404,764.955 653.404,1403.28 728.322,1403.28 728.322,764.955 653.404,764.955 \n",
       "  \"/>\n",
       "<polygon clip-path=\"url(#clip3703)\" points=\"\n",
       "934.348,593.899 934.348,1403.28 1009.27,1403.28 1009.27,593.899 934.348,593.899 934.348,593.899 \n",
       "  \" fill=\"#e26f46\" fill-rule=\"evenodd\" fill-opacity=\"1\"/>\n",
       "<polyline clip-path=\"url(#clip3703)\" style=\"stroke:#000000; stroke-width:4; stroke-opacity:1; fill:none\" points=\"\n",
       "  934.348,593.899 934.348,1403.28 1009.27,1403.28 1009.27,593.899 934.348,593.899 \n",
       "  \"/>\n",
       "<polygon clip-path=\"url(#clip3703)\" points=\"\n",
       "1215.29,474.458 1215.29,1403.28 1290.21,1403.28 1290.21,474.458 1215.29,474.458 1215.29,474.458 \n",
       "  \" fill=\"#e26f46\" fill-rule=\"evenodd\" fill-opacity=\"1\"/>\n",
       "<polyline clip-path=\"url(#clip3703)\" style=\"stroke:#000000; stroke-width:4; stroke-opacity:1; fill:none\" points=\"\n",
       "  1215.29,474.458 1215.29,1403.28 1290.21,1403.28 1290.21,474.458 1215.29,474.458 \n",
       "  \"/>\n",
       "<polygon clip-path=\"url(#clip3703)\" points=\"\n",
       "1496.24,365.201 1496.24,1403.28 1571.15,1403.28 1571.15,365.201 1496.24,365.201 1496.24,365.201 \n",
       "  \" fill=\"#e26f46\" fill-rule=\"evenodd\" fill-opacity=\"1\"/>\n",
       "<polyline clip-path=\"url(#clip3703)\" style=\"stroke:#000000; stroke-width:4; stroke-opacity:1; fill:none\" points=\"\n",
       "  1496.24,365.201 1496.24,1403.28 1571.15,1403.28 1571.15,365.201 1496.24,365.201 \n",
       "  \"/>\n",
       "<polygon clip-path=\"url(#clip3703)\" points=\"\n",
       "1777.18,307.371 1777.18,1403.28 1852.1,1403.28 1852.1,307.371 1777.18,307.371 1777.18,307.371 \n",
       "  \" fill=\"#e26f46\" fill-rule=\"evenodd\" fill-opacity=\"1\"/>\n",
       "<polyline clip-path=\"url(#clip3703)\" style=\"stroke:#000000; stroke-width:4; stroke-opacity:1; fill:none\" points=\"\n",
       "  1777.18,307.371 1777.18,1403.28 1852.1,1403.28 1852.1,307.371 1777.18,307.371 \n",
       "  \"/>\n",
       "<polygon clip-path=\"url(#clip3703)\" points=\"\n",
       "2058.12,223.442 2058.12,1403.28 2133.04,1403.28 2133.04,223.442 2058.12,223.442 2058.12,223.442 \n",
       "  \" fill=\"#e26f46\" fill-rule=\"evenodd\" fill-opacity=\"1\"/>\n",
       "<polyline clip-path=\"url(#clip3703)\" style=\"stroke:#000000; stroke-width:4; stroke-opacity:1; fill:none\" points=\"\n",
       "  2058.12,223.442 2058.12,1403.28 2133.04,1403.28 2133.04,223.442 2058.12,223.442 \n",
       "  \"/>\n",
       "<polygon clip-path=\"url(#clip3703)\" points=\"\n",
       "447.379,992.617 447.379,1403.28 522.297,1403.28 522.297,992.617 447.379,992.617 447.379,992.617 \n",
       "  \" fill=\"#3da44d\" fill-rule=\"evenodd\" fill-opacity=\"1\"/>\n",
       "<polyline clip-path=\"url(#clip3703)\" style=\"stroke:#000000; stroke-width:4; stroke-opacity:1; fill:none\" points=\"\n",
       "  447.379,992.617 447.379,1403.28 522.297,1403.28 522.297,992.617 447.379,992.617 \n",
       "  \"/>\n",
       "<polygon clip-path=\"url(#clip3703)\" points=\"\n",
       "728.322,794.798 728.322,1403.28 803.241,1403.28 803.241,794.798 728.322,794.798 728.322,794.798 \n",
       "  \" fill=\"#3da44d\" fill-rule=\"evenodd\" fill-opacity=\"1\"/>\n",
       "<polyline clip-path=\"url(#clip3703)\" style=\"stroke:#000000; stroke-width:4; stroke-opacity:1; fill:none\" points=\"\n",
       "  728.322,794.798 728.322,1403.28 803.241,1403.28 803.241,794.798 728.322,794.798 \n",
       "  \"/>\n",
       "<polygon clip-path=\"url(#clip3703)\" points=\"\n",
       "1009.27,647.287 1009.27,1403.28 1084.18,1403.28 1084.18,647.287 1009.27,647.287 1009.27,647.287 \n",
       "  \" fill=\"#3da44d\" fill-rule=\"evenodd\" fill-opacity=\"1\"/>\n",
       "<polyline clip-path=\"url(#clip3703)\" style=\"stroke:#000000; stroke-width:4; stroke-opacity:1; fill:none\" points=\"\n",
       "  1009.27,647.287 1009.27,1403.28 1084.18,1403.28 1084.18,647.287 1009.27,647.287 \n",
       "  \"/>\n",
       "<polygon clip-path=\"url(#clip3703)\" points=\"\n",
       "1290.21,430.658 1290.21,1403.28 1365.13,1403.28 1365.13,430.658 1290.21,430.658 1290.21,430.658 \n",
       "  \" fill=\"#3da44d\" fill-rule=\"evenodd\" fill-opacity=\"1\"/>\n",
       "<polyline clip-path=\"url(#clip3703)\" style=\"stroke:#000000; stroke-width:4; stroke-opacity:1; fill:none\" points=\"\n",
       "  1290.21,430.658 1290.21,1403.28 1365.13,1403.28 1365.13,430.658 1290.21,430.658 \n",
       "  \"/>\n",
       "<polygon clip-path=\"url(#clip3703)\" points=\"\n",
       "1571.15,309.08 1571.15,1403.28 1646.07,1403.28 1646.07,309.08 1571.15,309.08 1571.15,309.08 \n",
       "  \" fill=\"#3da44d\" fill-rule=\"evenodd\" fill-opacity=\"1\"/>\n",
       "<polyline clip-path=\"url(#clip3703)\" style=\"stroke:#000000; stroke-width:4; stroke-opacity:1; fill:none\" points=\"\n",
       "  1571.15,309.08 1571.15,1403.28 1646.07,1403.28 1646.07,309.08 1571.15,309.08 \n",
       "  \"/>\n",
       "<polygon clip-path=\"url(#clip3703)\" points=\"\n",
       "1852.1,163.187 1852.1,1403.28 1927.02,1403.28 1927.02,163.187 1852.1,163.187 1852.1,163.187 \n",
       "  \" fill=\"#3da44d\" fill-rule=\"evenodd\" fill-opacity=\"1\"/>\n",
       "<polyline clip-path=\"url(#clip3703)\" style=\"stroke:#000000; stroke-width:4; stroke-opacity:1; fill:none\" points=\"\n",
       "  1852.1,163.187 1852.1,1403.28 1927.02,1403.28 1927.02,163.187 1852.1,163.187 \n",
       "  \"/>\n",
       "<polygon clip-path=\"url(#clip3703)\" points=\"\n",
       "2133.04,309.08 2133.04,1403.28 2207.96,1403.28 2207.96,309.08 2133.04,309.08 2133.04,309.08 \n",
       "  \" fill=\"#3da44d\" fill-rule=\"evenodd\" fill-opacity=\"1\"/>\n",
       "<polyline clip-path=\"url(#clip3703)\" style=\"stroke:#000000; stroke-width:4; stroke-opacity:1; fill:none\" points=\"\n",
       "  2133.04,309.08 2133.04,1403.28 2207.96,1403.28 2207.96,309.08 2133.04,309.08 \n",
       "  \"/>\n",
       "<polygon clip-path=\"url(#clip3701)\" points=\"\n",
       "1744.43,451.424 2249.26,451.424 2249.26,209.504 1744.43,209.504 \n",
       "  \" fill=\"#ffffff\" fill-rule=\"evenodd\" fill-opacity=\"1\"/>\n",
       "<polyline clip-path=\"url(#clip3701)\" style=\"stroke:#000000; stroke-width:4; stroke-opacity:1; fill:none\" points=\"\n",
       "  1744.43,451.424 2249.26,451.424 2249.26,209.504 1744.43,209.504 1744.43,451.424 \n",
       "  \"/>\n",
       "<polygon clip-path=\"url(#clip3701)\" points=\"\n",
       "1768.43,294.176 1912.43,294.176 1912.43,245.792 1768.43,245.792 1768.43,294.176 \n",
       "  \" fill=\"#009af9\" fill-rule=\"evenodd\" fill-opacity=\"1\"/>\n",
       "<polyline clip-path=\"url(#clip3701)\" style=\"stroke:#000000; stroke-width:4; stroke-opacity:1; fill:none\" points=\"\n",
       "  1768.43,294.176 1912.43,294.176 1912.43,245.792 1768.43,245.792 1768.43,294.176 \n",
       "  \"/>\n",
       "<g clip-path=\"url(#clip3701)\">\n",
       "<text style=\"fill:#000000; fill-opacity:1; font-family:Arial,Helvetica Neue,Helvetica,sans-serif; font-size:48px; text-anchor:start;\" transform=\"rotate(0, 1936.43, 287.484)\" x=\"1936.43\" y=\"287.484\">Model Fitted</text>\n",
       "</g>\n",
       "<polygon clip-path=\"url(#clip3701)\" points=\"\n",
       "1768.43,354.656 1912.43,354.656 1912.43,306.272 1768.43,306.272 1768.43,354.656 \n",
       "  \" fill=\"#e26f46\" fill-rule=\"evenodd\" fill-opacity=\"1\"/>\n",
       "<polyline clip-path=\"url(#clip3701)\" style=\"stroke:#000000; stroke-width:4; stroke-opacity:1; fill:none\" points=\"\n",
       "  1768.43,354.656 1912.43,354.656 1912.43,306.272 1768.43,306.272 1768.43,354.656 \n",
       "  \"/>\n",
       "<g clip-path=\"url(#clip3701)\">\n",
       "<text style=\"fill:#000000; fill-opacity:1; font-family:Arial,Helvetica Neue,Helvetica,sans-serif; font-size:48px; text-anchor:start;\" transform=\"rotate(0, 1936.43, 347.964)\" x=\"1936.43\" y=\"347.964\">OLS Fitted</text>\n",
       "</g>\n",
       "<polygon clip-path=\"url(#clip3701)\" points=\"\n",
       "1768.43,415.136 1912.43,415.136 1912.43,366.752 1768.43,366.752 1768.43,415.136 \n",
       "  \" fill=\"#3da44d\" fill-rule=\"evenodd\" fill-opacity=\"1\"/>\n",
       "<polyline clip-path=\"url(#clip3701)\" style=\"stroke:#000000; stroke-width:4; stroke-opacity:1; fill:none\" points=\"\n",
       "  1768.43,415.136 1912.43,415.136 1912.43,366.752 1768.43,366.752 1768.43,415.136 \n",
       "  \"/>\n",
       "<g clip-path=\"url(#clip3701)\">\n",
       "<text style=\"fill:#000000; fill-opacity:1; font-family:Arial,Helvetica Neue,Helvetica,sans-serif; font-size:48px; text-anchor:start;\" transform=\"rotate(0, 1936.43, 408.444)\" x=\"1936.43\" y=\"408.444\">actual</text>\n",
       "</g>\n",
       "</svg>\n"
      ]
     },
     "execution_count": 367,
     "metadata": {},
     "output_type": "execute_result"
    }
   ],
   "source": [
    "#Grouped Bar Chart\n",
    "\n",
    "ph = df[:x1]\n",
    "gr = df[:method]\n",
    "pop = df[:group]\n",
    "\n",
    "groupedbar(pop, ph, group = gr, ylabel = \"Number of Pharmacies\", \n",
    "        title = \"Model Fit 1\", xlabel = \"Population Group\")"
   ]
  },
  {
   "cell_type": "markdown",
   "metadata": {},
   "source": [
    "So here we see a grouped bar that compares the average number of pharmcies for markets in each population group. So the first blue \n",
    "line represents the average number of pharmacies as predicted by the model in this paper for population centres that have between \n",
    "0-2500 people, and so forth. Overall, the correlations between fitted value number of pharmacies and actualy number of pharmacies observed in the data \n",
    "is 0.59 and 0.6 for this papers model and the standard OLS model, respectivley.\n"
   ]
  },
  {
   "cell_type": "code",
   "execution_count": 368,
   "metadata": {},
   "outputs": [],
   "source": [
    "#Next Im going to make a grouped line graph to see how both models are capturing the \n",
    "#trends in number of pharmacies."
   ]
  },
  {
   "cell_type": "code",
   "execution_count": 369,
   "metadata": {},
   "outputs": [],
   "source": [
    "#To get the grouped line graph too work, I need the actual number of pharmacies and fitted number of pharmacies to be \n",
    "#number of pharmacies to be in the same column"
   ]
  },
  {
   "cell_type": "code",
   "execution_count": 370,
   "metadata": {},
   "outputs": [],
   "source": [
    "#DataFrame for actual number of pharmacies\n",
    "actual = DataFrame(Population = CleanData1[:pop2016], pharmacies = CleanData1[:pharmacies])\n",
    "actual[:method] = \"actual\"\n",
    "actual;\n",
    "\n",
    "#DataFrame for fitted number of pharmacies using OLS\n",
    "OLS = DataFrame(Population = CleanData1[:pop2016], pharmacies = CleanData1[:nhatO])\n",
    "OLS[:method] = \"OLS fitted\"\n",
    "OLS;\n",
    "\n",
    "#DataFrame for fitted number of pharmacies using this paper's model\n",
    "Model = DataFrame(Population = CleanData1[:pop2016], pharmacies = CleanData1[:nhat1])\n",
    "Model[:method] = \"Model fitted\"\n",
    "Model;\n",
    "\n",
    "#Now combine them into a single dataframe\n",
    "\n",
    "AllData = vcat(actual, OLS, Model);\n",
    "AllData1 = AllData[AllData[:Population].<2000,:];"
   ]
  },
  {
   "cell_type": "code",
   "execution_count": 371,
   "metadata": {},
   "outputs": [
    {
     "data": {
      "application/vnd.vegalite.v2+json": {
       "data": {
        "values": [
         {
          "Population": 4167,
          "method": "actual",
          "pharmacies": 3
         },
         {
          "Population": 5114,
          "method": "actual",
          "pharmacies": 2
         },
         {
          "Population": 1084,
          "method": "actual",
          "pharmacies": 2
         },
         {
          "Population": 2581,
          "method": "actual",
          "pharmacies": 2
         },
         {
          "Population": 1656,
          "method": "actual",
          "pharmacies": 1
         },
         {
          "Population": 3140,
          "method": "actual",
          "pharmacies": 4
         },
         {
          "Population": 2763,
          "method": "actual",
          "pharmacies": 2
         },
         {
          "Population": 1722,
          "method": "actual",
          "pharmacies": 2
         },
         {
          "Population": 1307,
          "method": "actual",
          "pharmacies": 2
         },
         {
          "Population": 1932,
          "method": "actual",
          "pharmacies": 3
         },
         {
          "Population": 3108,
          "method": "actual",
          "pharmacies": 4
         },
         {
          "Population": 1682,
          "method": "actual",
          "pharmacies": 5
         },
         {
          "Population": 6520,
          "method": "actual",
          "pharmacies": 6
         },
         {
          "Population": 9023,
          "method": "actual",
          "pharmacies": 5
         },
         {
          "Population": 3665,
          "method": "actual",
          "pharmacies": 2
         },
         {
          "Population": 2263,
          "method": "actual",
          "pharmacies": 1
         },
         {
          "Population": 3021,
          "method": "actual",
          "pharmacies": 4
         },
         {
          "Population": 5226,
          "method": "actual",
          "pharmacies": 4
         },
         {
          "Population": 3600,
          "method": "actual",
          "pharmacies": 0
         },
         {
          "Population": 8095,
          "method": "actual",
          "pharmacies": 6
         },
         {
          "Population": 11574,
          "method": "actual",
          "pharmacies": 6
         },
         {
          "Population": 2964,
          "method": "actual",
          "pharmacies": 2
         },
         {
          "Population": 4850,
          "method": "actual",
          "pharmacies": 3
         },
         {
          "Population": 4791,
          "method": "actual",
          "pharmacies": 4
         },
         {
          "Population": 3366,
          "method": "actual",
          "pharmacies": 2
         },
         {
          "Population": 1510,
          "method": "actual",
          "pharmacies": 1
         },
         {
          "Population": 19897,
          "method": "actual",
          "pharmacies": 4
         },
         {
          "Population": 1007,
          "method": "actual",
          "pharmacies": 0
         },
         {
          "Population": 9132,
          "method": "actual",
          "pharmacies": 3
         },
         {
          "Population": 2246,
          "method": "actual",
          "pharmacies": 5
         },
         {
          "Population": 3240,
          "method": "actual",
          "pharmacies": 3
         },
         {
          "Population": 2230,
          "method": "actual",
          "pharmacies": 3
         },
         {
          "Population": 4221,
          "method": "actual",
          "pharmacies": 3
         },
         {
          "Population": 3953,
          "method": "actual",
          "pharmacies": 4
         },
         {
          "Population": 3436,
          "method": "actual",
          "pharmacies": 3
         },
         {
          "Population": 6408,
          "method": "actual",
          "pharmacies": 3
         },
         {
          "Population": 4067,
          "method": "actual",
          "pharmacies": 3
         },
         {
          "Population": 2882,
          "method": "actual",
          "pharmacies": 2
         },
         {
          "Population": 1562,
          "method": "actual",
          "pharmacies": 2
         },
         {
          "Population": 2150,
          "method": "actual",
          "pharmacies": 0
         },
         {
          "Population": 4513,
          "method": "actual",
          "pharmacies": 3
         },
         {
          "Population": 6394,
          "method": "actual",
          "pharmacies": 3
         },
         {
          "Population": 8622,
          "method": "actual",
          "pharmacies": 4
         },
         {
          "Population": 10637,
          "method": "actual",
          "pharmacies": 3
         },
         {
          "Population": 3013,
          "method": "actual",
          "pharmacies": 2
         },
         {
          "Population": 1560,
          "method": "actual",
          "pharmacies": 1
         },
         {
          "Population": 3262,
          "method": "actual",
          "pharmacies": 2
         },
         {
          "Population": 2697,
          "method": "actual",
          "pharmacies": 5
         },
         {
          "Population": 5321,
          "method": "actual",
          "pharmacies": 4
         },
         {
          "Population": 2178,
          "method": "actual",
          "pharmacies": 2
         },
         {
          "Population": 7907,
          "method": "actual",
          "pharmacies": 5
         },
         {
          "Population": 1714,
          "method": "actual",
          "pharmacies": 2
         },
         {
          "Population": 1130,
          "method": "actual",
          "pharmacies": 1
         },
         {
          "Population": 3939,
          "method": "actual",
          "pharmacies": 5
         },
         {
          "Population": 5279,
          "method": "actual",
          "pharmacies": 3
         },
         {
          "Population": 4520,
          "method": "actual",
          "pharmacies": 2
         },
         {
          "Population": 1331,
          "method": "actual",
          "pharmacies": 3
         },
         {
          "Population": 2745,
          "method": "actual",
          "pharmacies": 2
         },
         {
          "Population": 6719,
          "method": "actual",
          "pharmacies": 2
         },
         {
          "Population": 1257,
          "method": "actual",
          "pharmacies": 1
         },
         {
          "Population": 1614,
          "method": "actual",
          "pharmacies": 2
         },
         {
          "Population": 1395,
          "method": "actual",
          "pharmacies": 2
         },
         {
          "Population": 2963,
          "method": "actual",
          "pharmacies": 6
         },
         {
          "Population": 1534,
          "method": "actual",
          "pharmacies": 3
         },
         {
          "Population": 1419,
          "method": "actual",
          "pharmacies": 3
         },
         {
          "Population": 2130,
          "method": "actual",
          "pharmacies": 4
         },
         {
          "Population": 5351,
          "method": "actual",
          "pharmacies": 5
         },
         {
          "Population": 1876,
          "method": "actual",
          "pharmacies": 4
         },
         {
          "Population": 3490,
          "method": "actual",
          "pharmacies": 4
         },
         {
          "Population": 2080,
          "method": "actual",
          "pharmacies": 6
         },
         {
          "Population": 17587,
          "method": "actual",
          "pharmacies": 6
         },
         {
          "Population": 1501,
          "method": "actual",
          "pharmacies": 3
         },
         {
          "Population": 2049,
          "method": "actual",
          "pharmacies": 2
         },
         {
          "Population": 2194,
          "method": "actual",
          "pharmacies": 3
         },
         {
          "Population": 3233,
          "method": "actual",
          "pharmacies": 6
         },
         {
          "Population": 2114,
          "method": "actual",
          "pharmacies": 3
         },
         {
          "Population": 4644,
          "method": "actual",
          "pharmacies": 3
         },
         {
          "Population": 3964,
          "method": "actual",
          "pharmacies": 5
         },
         {
          "Population": 13663,
          "method": "actual",
          "pharmacies": 6
         },
         {
          "Population": 5368,
          "method": "actual",
          "pharmacies": 5
         },
         {
          "Population": 12878,
          "method": "actual",
          "pharmacies": 5
         },
         {
          "Population": 3184,
          "method": "actual",
          "pharmacies": 5
         },
         {
          "Population": 1576,
          "method": "actual",
          "pharmacies": 4
         },
         {
          "Population": 1979,
          "method": "actual",
          "pharmacies": 3
         },
         {
          "Population": 10508,
          "method": "actual",
          "pharmacies": 6
         },
         {
          "Population": 1811,
          "method": "actual",
          "pharmacies": 3
         },
         {
          "Population": 3643,
          "method": "actual",
          "pharmacies": 2
         },
         {
          "Population": 9269,
          "method": "actual",
          "pharmacies": 4
         },
         {
          "Population": 8742,
          "method": "actual",
          "pharmacies": 3
         },
         {
          "Population": 2460,
          "method": "actual",
          "pharmacies": 4
         },
         {
          "Population": 1752,
          "method": "actual",
          "pharmacies": 2
         },
         {
          "Population": 1208,
          "method": "actual",
          "pharmacies": 0
         },
         {
          "Population": 1099,
          "method": "actual",
          "pharmacies": 1
         },
         {
          "Population": 1141,
          "method": "actual",
          "pharmacies": 2
         },
         {
          "Population": 1303,
          "method": "actual",
          "pharmacies": 1
         },
         {
          "Population": 2064,
          "method": "actual",
          "pharmacies": 2
         },
         {
          "Population": 2800,
          "method": "actual",
          "pharmacies": 2
         },
         {
          "Population": 1786,
          "method": "actual",
          "pharmacies": 0
         },
         {
          "Population": 2126,
          "method": "actual",
          "pharmacies": 2
         },
         {
          "Population": 4479,
          "method": "actual",
          "pharmacies": 2
         },
         {
          "Population": 1089,
          "method": "actual",
          "pharmacies": 1
         },
         {
          "Population": 1982,
          "method": "actual",
          "pharmacies": 2
         },
         {
          "Population": 3219,
          "method": "actual",
          "pharmacies": 1
         },
         {
          "Population": 1168,
          "method": "actual",
          "pharmacies": 1
         },
         {
          "Population": 8832,
          "method": "actual",
          "pharmacies": 6
         },
         {
          "Population": 8713,
          "method": "actual",
          "pharmacies": 4
         },
         {
          "Population": 1053,
          "method": "actual",
          "pharmacies": 2
         },
         {
          "Population": 3802,
          "method": "actual",
          "pharmacies": 3
         },
         {
          "Population": 1976,
          "method": "actual",
          "pharmacies": 2
         },
         {
          "Population": 1957,
          "method": "actual",
          "pharmacies": 2
         },
         {
          "Population": 4604,
          "method": "actual",
          "pharmacies": 0
         },
         {
          "Population": 2904,
          "method": "actual",
          "pharmacies": 0
         },
         {
          "Population": 1373,
          "method": "actual",
          "pharmacies": 0
         },
         {
          "Population": 1848,
          "method": "actual",
          "pharmacies": 0
         },
         {
          "Population": 1242,
          "method": "actual",
          "pharmacies": 0
         },
         {
          "Population": 2127,
          "method": "actual",
          "pharmacies": 4
         },
         {
          "Population": 3491,
          "method": "actual",
          "pharmacies": 1
         },
         {
          "Population": 1097,
          "method": "actual",
          "pharmacies": 2
         },
         {
          "Population": 2394,
          "method": "actual",
          "pharmacies": 1
         },
         {
          "Population": 2523,
          "method": "actual",
          "pharmacies": 0
         },
         {
          "Population": 1225,
          "method": "actual",
          "pharmacies": 1
         },
         {
          "Population": 1038,
          "method": "actual",
          "pharmacies": 0
         },
         {
          "Population": 1680,
          "method": "actual",
          "pharmacies": 0
         },
         {
          "Population": 1036,
          "method": "actual",
          "pharmacies": 4
         },
         {
          "Population": 1675,
          "method": "actual",
          "pharmacies": 0
         },
         {
          "Population": 1125,
          "method": "actual",
          "pharmacies": 1
         },
         {
          "Population": 1632,
          "method": "actual",
          "pharmacies": 1
         },
         {
          "Population": 1142,
          "method": "actual",
          "pharmacies": 3
         },
         {
          "Population": 1053,
          "method": "actual",
          "pharmacies": 5
         },
         {
          "Population": 1252,
          "method": "actual",
          "pharmacies": 1
         },
         {
          "Population": 1266,
          "method": "actual",
          "pharmacies": 3
         },
         {
          "Population": 1222,
          "method": "actual",
          "pharmacies": 1
         },
         {
          "Population": 2018,
          "method": "actual",
          "pharmacies": 1
         },
         {
          "Population": 1237,
          "method": "actual",
          "pharmacies": 0
         },
         {
          "Population": 1051,
          "method": "actual",
          "pharmacies": 2
         },
         {
          "Population": 1170,
          "method": "actual",
          "pharmacies": 0
         },
         {
          "Population": 1095,
          "method": "actual",
          "pharmacies": 1
         },
         {
          "Population": 1081,
          "method": "actual",
          "pharmacies": 0
         },
         {
          "Population": 1147,
          "method": "actual",
          "pharmacies": 2
         },
         {
          "Population": 3580,
          "method": "actual",
          "pharmacies": 3
         },
         {
          "Population": 1714,
          "method": "actual",
          "pharmacies": 2
         },
         {
          "Population": 1003,
          "method": "actual",
          "pharmacies": 0
         },
         {
          "Population": 2167,
          "method": "actual",
          "pharmacies": 1
         },
         {
          "Population": 1951,
          "method": "actual",
          "pharmacies": 2
         },
         {
          "Population": 1741,
          "method": "actual",
          "pharmacies": 2
         },
         {
          "Population": 7021,
          "method": "actual",
          "pharmacies": 1
         },
         {
          "Population": 1160,
          "method": "actual",
          "pharmacies": 0
         },
         {
          "Population": 12643,
          "method": "actual",
          "pharmacies": 6
         },
         {
          "Population": 1553,
          "method": "actual",
          "pharmacies": 6
         },
         {
          "Population": 1674,
          "method": "actual",
          "pharmacies": 0
         },
         {
          "Population": 4167,
          "method": "OLS fitted",
          "pharmacies": 2.7817328245368897
         },
         {
          "Population": 5114,
          "method": "OLS fitted",
          "pharmacies": 3.3986510725462233
         },
         {
          "Population": 1084,
          "method": "OLS fitted",
          "pharmacies": 1.8056652900596473
         },
         {
          "Population": 2581,
          "method": "OLS fitted",
          "pharmacies": 3.0702307230353307
         },
         {
          "Population": 1656,
          "method": "OLS fitted",
          "pharmacies": 1.830851548508876
         },
         {
          "Population": 3140,
          "method": "OLS fitted",
          "pharmacies": 3.100995155199912
         },
         {
          "Population": 2763,
          "method": "OLS fitted",
          "pharmacies": 3.0437145500700287
         },
         {
          "Population": 1722,
          "method": "OLS fitted",
          "pharmacies": 2.312342285457537
         },
         {
          "Population": 1307,
          "method": "OLS fitted",
          "pharmacies": 2.2677225602886084
         },
         {
          "Population": 1932,
          "method": "OLS fitted",
          "pharmacies": 2.1264251178367726
         },
         {
          "Population": 3108,
          "method": "OLS fitted",
          "pharmacies": 3.022697551479352
         },
         {
          "Population": 1682,
          "method": "OLS fitted",
          "pharmacies": 1.6397542057801258
         },
         {
          "Population": 6520,
          "method": "OLS fitted",
          "pharmacies": 4.21418777407121
         },
         {
          "Population": 9023,
          "method": "OLS fitted",
          "pharmacies": 4.511666304044108
         },
         {
          "Population": 3665,
          "method": "OLS fitted",
          "pharmacies": 3.357863647226529
         },
         {
          "Population": 2263,
          "method": "OLS fitted",
          "pharmacies": 2.536665941289434
         },
         {
          "Population": 3021,
          "method": "OLS fitted",
          "pharmacies": 2.783902664608836
         },
         {
          "Population": 5226,
          "method": "OLS fitted",
          "pharmacies": 3.6640076349240807
         },
         {
          "Population": 3600,
          "method": "OLS fitted",
          "pharmacies": 2.636148922239766
         },
         {
          "Population": 8095,
          "method": "OLS fitted",
          "pharmacies": 3.9338991444161957
         },
         {
          "Population": 11574,
          "method": "OLS fitted",
          "pharmacies": 4.683195340706997
         },
         {
          "Population": 2964,
          "method": "OLS fitted",
          "pharmacies": 2.8747998928850698
         },
         {
          "Population": 4850,
          "method": "OLS fitted",
          "pharmacies": 2.953542639701577
         },
         {
          "Population": 4791,
          "method": "OLS fitted",
          "pharmacies": 3.296573548298966
         },
         {
          "Population": 3366,
          "method": "OLS fitted",
          "pharmacies": 2.8477794297698575
         },
         {
          "Population": 1510,
          "method": "OLS fitted",
          "pharmacies": 1.7854721789087935
         },
         {
          "Population": 19897,
          "method": "OLS fitted",
          "pharmacies": 5.62541863411582
         },
         {
          "Population": 1007,
          "method": "OLS fitted",
          "pharmacies": 1.4089057775313616
         },
         {
          "Population": 9132,
          "method": "OLS fitted",
          "pharmacies": 4.366079365424085
         },
         {
          "Population": 2246,
          "method": "OLS fitted",
          "pharmacies": 2.3295791135298556
         },
         {
          "Population": 3240,
          "method": "OLS fitted",
          "pharmacies": 2.724154699981553
         },
         {
          "Population": 2230,
          "method": "OLS fitted",
          "pharmacies": 2.6063794931782964
         },
         {
          "Population": 4221,
          "method": "OLS fitted",
          "pharmacies": 3.3796981790618785
         },
         {
          "Population": 3953,
          "method": "OLS fitted",
          "pharmacies": 3.3090613618411333
         },
         {
          "Population": 3436,
          "method": "OLS fitted",
          "pharmacies": 3.0127095362535736
         },
         {
          "Population": 6408,
          "method": "OLS fitted",
          "pharmacies": 3.959969923394304
         },
         {
          "Population": 4067,
          "method": "OLS fitted",
          "pharmacies": 3.324789443694603
         },
         {
          "Population": 2882,
          "method": "OLS fitted",
          "pharmacies": 2.405255612200945
         },
         {
          "Population": 1562,
          "method": "OLS fitted",
          "pharmacies": 1.753452066970524
         },
         {
          "Population": 2150,
          "method": "OLS fitted",
          "pharmacies": 2.102318415917587
         },
         {
          "Population": 4513,
          "method": "OLS fitted",
          "pharmacies": 3.0888678626770374
         },
         {
          "Population": 6394,
          "method": "OLS fitted",
          "pharmacies": 3.7885590777560085
         },
         {
          "Population": 8622,
          "method": "OLS fitted",
          "pharmacies": 4.48092270522427
         },
         {
          "Population": 10637,
          "method": "OLS fitted",
          "pharmacies": 4.814746938840357
         },
         {
          "Population": 3013,
          "method": "OLS fitted",
          "pharmacies": 2.8681992106580414
         },
         {
          "Population": 1560,
          "method": "OLS fitted",
          "pharmacies": 1.9353652957091971
         },
         {
          "Population": 3262,
          "method": "OLS fitted",
          "pharmacies": 2.6996967627721395
         },
         {
          "Population": 2697,
          "method": "OLS fitted",
          "pharmacies": 3.058292730956889
         },
         {
          "Population": 5321,
          "method": "OLS fitted",
          "pharmacies": 3.4939658521149464
         },
         {
          "Population": 2178,
          "method": "OLS fitted",
          "pharmacies": 2.091526173150711
         },
         {
          "Population": 7907,
          "method": "OLS fitted",
          "pharmacies": 3.8445478315467456
         },
         {
          "Population": 1714,
          "method": "OLS fitted",
          "pharmacies": 1.7426214981206032
         },
         {
          "Population": 1130,
          "method": "OLS fitted",
          "pharmacies": 1.3167189486392479
         },
         {
          "Population": 3939,
          "method": "OLS fitted",
          "pharmacies": 2.5689252545830144
         },
         {
          "Population": 5279,
          "method": "OLS fitted",
          "pharmacies": 3.60590603208726
         },
         {
          "Population": 4520,
          "method": "OLS fitted",
          "pharmacies": 3.412260545721401
         },
         {
          "Population": 1331,
          "method": "OLS fitted",
          "pharmacies": 1.8393722349534116
         },
         {
          "Population": 2745,
          "method": "OLS fitted",
          "pharmacies": 2.8268732256300666
         },
         {
          "Population": 6719,
          "method": "OLS fitted",
          "pharmacies": 3.9293216667252597
         },
         {
          "Population": 1257,
          "method": "OLS fitted",
          "pharmacies": 0.9370849517304675
         },
         {
          "Population": 1614,
          "method": "OLS fitted",
          "pharmacies": 1.83367173776748
         },
         {
          "Population": 1395,
          "method": "OLS fitted",
          "pharmacies": 1.623469979968052
         },
         {
          "Population": 2963,
          "method": "OLS fitted",
          "pharmacies": 2.645980759620966
         },
         {
          "Population": 1534,
          "method": "OLS fitted",
          "pharmacies": 1.9065224632844724
         },
         {
          "Population": 1419,
          "method": "OLS fitted",
          "pharmacies": 0.9760277334165908
         },
         {
          "Population": 2130,
          "method": "OLS fitted",
          "pharmacies": 2.2927420754654526
         },
         {
          "Population": 5351,
          "method": "OLS fitted",
          "pharmacies": 3.5659449296853762
         },
         {
          "Population": 1876,
          "method": "OLS fitted",
          "pharmacies": 1.9250981957787294
         },
         {
          "Population": 3490,
          "method": "OLS fitted",
          "pharmacies": 3.196442361146944
         },
         {
          "Population": 2080,
          "method": "OLS fitted",
          "pharmacies": 2.6029980349279205
         },
         {
          "Population": 17587,
          "method": "OLS fitted",
          "pharmacies": 5.157237720027941
         },
         {
          "Population": 1501,
          "method": "OLS fitted",
          "pharmacies": 1.8505586854528169
         },
         {
          "Population": 2049,
          "method": "OLS fitted",
          "pharmacies": 2.508305156693347
         },
         {
          "Population": 2194,
          "method": "OLS fitted",
          "pharmacies": 2.368937311418612
         },
         {
          "Population": 3233,
          "method": "OLS fitted",
          "pharmacies": 2.836903016756531
         },
         {
          "Population": 2114,
          "method": "OLS fitted",
          "pharmacies": 1.9546530818599317
         },
         {
          "Population": 4644,
          "method": "OLS fitted",
          "pharmacies": 2.8952236373858824
         },
         {
          "Population": 3964,
          "method": "OLS fitted",
          "pharmacies": 3.035413668202697
         },
         {
          "Population": 13663,
          "method": "OLS fitted",
          "pharmacies": 5.160592826272719
         },
         {
          "Population": 5368,
          "method": "OLS fitted",
          "pharmacies": 3.1786836072416307
         },
         {
          "Population": 12878,
          "method": "OLS fitted",
          "pharmacies": 4.545732900076637
         },
         {
          "Population": 3184,
          "method": "OLS fitted",
          "pharmacies": 3.1141778629768813
         },
         {
          "Population": 1576,
          "method": "OLS fitted",
          "pharmacies": 1.486570969239688
         },
         {
          "Population": 1979,
          "method": "OLS fitted",
          "pharmacies": 2.0303272262398764
         },
         {
          "Population": 10508,
          "method": "OLS fitted",
          "pharmacies": 4.732724474194754
         },
         {
          "Population": 1811,
          "method": "OLS fitted",
          "pharmacies": 2.1043849303004007
         },
         {
          "Population": 3643,
          "method": "OLS fitted",
          "pharmacies": 2.926753201830453
         },
         {
          "Population": 9269,
          "method": "OLS fitted",
          "pharmacies": 4.302962123366775
         },
         {
          "Population": 8742,
          "method": "OLS fitted",
          "pharmacies": 4.384375256783383
         },
         {
          "Population": 2460,
          "method": "OLS fitted",
          "pharmacies": 2.222475599835538
         },
         {
          "Population": 1752,
          "method": "OLS fitted",
          "pharmacies": 1.9672074475692303
         },
         {
          "Population": 1208,
          "method": "OLS fitted",
          "pharmacies": 1.6631695212749793
         },
         {
          "Population": 1099,
          "method": "OLS fitted",
          "pharmacies": 1.4110160379478054
         },
         {
          "Population": 1141,
          "method": "OLS fitted",
          "pharmacies": 1.785168176799846
         },
         {
          "Population": 1303,
          "method": "OLS fitted",
          "pharmacies": 1.5757488746485384
         },
         {
          "Population": 2064,
          "method": "OLS fitted",
          "pharmacies": 1.8395679906575528
         },
         {
          "Population": 2800,
          "method": "OLS fitted",
          "pharmacies": 2.9557452070725208
         },
         {
          "Population": 1786,
          "method": "OLS fitted",
          "pharmacies": 2.2925566459483573
         },
         {
          "Population": 2126,
          "method": "OLS fitted",
          "pharmacies": 2.3098171549056095
         },
         {
          "Population": 4479,
          "method": "OLS fitted",
          "pharmacies": 3.2169655169286835
         },
         {
          "Population": 1089,
          "method": "OLS fitted",
          "pharmacies": 1.7354908721858795
         },
         {
          "Population": 1982,
          "method": "OLS fitted",
          "pharmacies": 2.317583013399515
         },
         {
          "Population": 3219,
          "method": "OLS fitted",
          "pharmacies": 2.487222877847191
         },
         {
          "Population": 1168,
          "method": "OLS fitted",
          "pharmacies": 1.9720676940453417
         },
         {
          "Population": 8832,
          "method": "OLS fitted",
          "pharmacies": 4.50578521416428
         },
         {
          "Population": 8713,
          "method": "OLS fitted",
          "pharmacies": 3.8684591945271674
         },
         {
          "Population": 1053,
          "method": "OLS fitted",
          "pharmacies": 1.7299331256493724
         },
         {
          "Population": 3802,
          "method": "OLS fitted",
          "pharmacies": 3.051228464492383
         },
         {
          "Population": 1976,
          "method": "OLS fitted",
          "pharmacies": 2.500904050349826
         },
         {
          "Population": 1957,
          "method": "OLS fitted",
          "pharmacies": 1.1570657553197448
         },
         {
          "Population": 4604,
          "method": "OLS fitted",
          "pharmacies": 2.9561839861273125
         },
         {
          "Population": 2904,
          "method": "OLS fitted",
          "pharmacies": 2.239492409111068
         },
         {
          "Population": 1373,
          "method": "OLS fitted",
          "pharmacies": 1.673232156519525
         },
         {
          "Population": 1848,
          "method": "OLS fitted",
          "pharmacies": 1.8420227171250287
         },
         {
          "Population": 1242,
          "method": "OLS fitted",
          "pharmacies": 1.5869344750212917
         },
         {
          "Population": 2127,
          "method": "OLS fitted",
          "pharmacies": 2.2762258687036097
         },
         {
          "Population": 3491,
          "method": "OLS fitted",
          "pharmacies": 2.158462275909053
         },
         {
          "Population": 1097,
          "method": "OLS fitted",
          "pharmacies": 0.6609744953287753
         },
         {
          "Population": 2394,
          "method": "OLS fitted",
          "pharmacies": 2.346359559613676
         },
         {
          "Population": 2523,
          "method": "OLS fitted",
          "pharmacies": 2.0782033838128866
         },
         {
          "Population": 1225,
          "method": "OLS fitted",
          "pharmacies": 1.7666231034830044
         },
         {
          "Population": 1038,
          "method": "OLS fitted",
          "pharmacies": 0.4802232506354847
         },
         {
          "Population": 1680,
          "method": "OLS fitted",
          "pharmacies": 1.3923227881155862
         },
         {
          "Population": 1036,
          "method": "OLS fitted",
          "pharmacies": 0.8713443092319626
         },
         {
          "Population": 1675,
          "method": "OLS fitted",
          "pharmacies": 1.5730546352753498
         },
         {
          "Population": 1125,
          "method": "OLS fitted",
          "pharmacies": 1.3321097298164253
         },
         {
          "Population": 1632,
          "method": "OLS fitted",
          "pharmacies": 1.7261462997358672
         },
         {
          "Population": 1142,
          "method": "OLS fitted",
          "pharmacies": 1.9693117008204162
         },
         {
          "Population": 1053,
          "method": "OLS fitted",
          "pharmacies": 1.7069026323980876
         },
         {
          "Population": 1252,
          "method": "OLS fitted",
          "pharmacies": 1.5242918500663554
         },
         {
          "Population": 1266,
          "method": "OLS fitted",
          "pharmacies": 1.871444654144355
         },
         {
          "Population": 1222,
          "method": "OLS fitted",
          "pharmacies": 1.1208231827066504
         },
         {
          "Population": 2018,
          "method": "OLS fitted",
          "pharmacies": 2.5145834419928113
         },
         {
          "Population": 1237,
          "method": "OLS fitted",
          "pharmacies": 1.031852034518495
         },
         {
          "Population": 1051,
          "method": "OLS fitted",
          "pharmacies": 1.3949105208764954
         },
         {
          "Population": 1170,
          "method": "OLS fitted",
          "pharmacies": 1.0890963887783058
         },
         {
          "Population": 1095,
          "method": "OLS fitted",
          "pharmacies": 1.5359400651262427
         },
         {
          "Population": 1081,
          "method": "OLS fitted",
          "pharmacies": 1.4547252278268257
         },
         {
          "Population": 1147,
          "method": "OLS fitted",
          "pharmacies": 2.233986207579969
         },
         {
          "Population": 3580,
          "method": "OLS fitted",
          "pharmacies": 3.3480485203099293
         },
         {
          "Population": 1714,
          "method": "OLS fitted",
          "pharmacies": 2.2286836191347685
         },
         {
          "Population": 1003,
          "method": "OLS fitted",
          "pharmacies": 1.4798595108634567
         },
         {
          "Population": 2167,
          "method": "OLS fitted",
          "pharmacies": 2.733605264499294
         },
         {
          "Population": 1951,
          "method": "OLS fitted",
          "pharmacies": 2.194454060041431
         },
         {
          "Population": 1741,
          "method": "OLS fitted",
          "pharmacies": 1.8689034542096545
         },
         {
          "Population": 7021,
          "method": "OLS fitted",
          "pharmacies": 3.884366565305953
         },
         {
          "Population": 1160,
          "method": "OLS fitted",
          "pharmacies": 1.3689451250601703
         },
         {
          "Population": 12643,
          "method": "OLS fitted",
          "pharmacies": 5.317100462449196
         },
         {
          "Population": 1553,
          "method": "OLS fitted",
          "pharmacies": 2.4031670409599326
         },
         {
          "Population": 1674,
          "method": "OLS fitted",
          "pharmacies": 1.9244542932298216
         },
         {
          "Population": 4167,
          "method": "Model fitted",
          "pharmacies": 3
         },
         {
          "Population": 5114,
          "method": "Model fitted",
          "pharmacies": 3
         },
         {
          "Population": 1084,
          "method": "Model fitted",
          "pharmacies": 2
         },
         {
          "Population": 2581,
          "method": "Model fitted",
          "pharmacies": 3
         },
         {
          "Population": 1656,
          "method": "Model fitted",
          "pharmacies": 2
         },
         {
          "Population": 3140,
          "method": "Model fitted",
          "pharmacies": 3
         },
         {
          "Population": 2763,
          "method": "Model fitted",
          "pharmacies": 3
         },
         {
          "Population": 1722,
          "method": "Model fitted",
          "pharmacies": 2
         },
         {
          "Population": 1307,
          "method": "Model fitted",
          "pharmacies": 2
         },
         {
          "Population": 1932,
          "method": "Model fitted",
          "pharmacies": 2
         },
         {
          "Population": 3108,
          "method": "Model fitted",
          "pharmacies": 3
         },
         {
          "Population": 1682,
          "method": "Model fitted",
          "pharmacies": 2
         },
         {
          "Population": 6520,
          "method": "Model fitted",
          "pharmacies": 5
         },
         {
          "Population": 9023,
          "method": "Model fitted",
          "pharmacies": 5
         },
         {
          "Population": 3665,
          "method": "Model fitted",
          "pharmacies": 3
         },
         {
          "Population": 2263,
          "method": "Model fitted",
          "pharmacies": 2
         },
         {
          "Population": 3021,
          "method": "Model fitted",
          "pharmacies": 2
         },
         {
          "Population": 5226,
          "method": "Model fitted",
          "pharmacies": 4
         },
         {
          "Population": 3600,
          "method": "Model fitted",
          "pharmacies": 3
         },
         {
          "Population": 8095,
          "method": "Model fitted",
          "pharmacies": 4
         },
         {
          "Population": 11574,
          "method": "Model fitted",
          "pharmacies": 5
         },
         {
          "Population": 2964,
          "method": "Model fitted",
          "pharmacies": 3
         },
         {
          "Population": 4850,
          "method": "Model fitted",
          "pharmacies": 3
         },
         {
          "Population": 4791,
          "method": "Model fitted",
          "pharmacies": 3
         },
         {
          "Population": 3366,
          "method": "Model fitted",
          "pharmacies": 2
         },
         {
          "Population": 1510,
          "method": "Model fitted",
          "pharmacies": 2
         },
         {
          "Population": 19897,
          "method": "Model fitted",
          "pharmacies": 5
         },
         {
          "Population": 1007,
          "method": "Model fitted",
          "pharmacies": 1
         },
         {
          "Population": 9132,
          "method": "Model fitted",
          "pharmacies": 4
         },
         {
          "Population": 2246,
          "method": "Model fitted",
          "pharmacies": 2
         },
         {
          "Population": 3240,
          "method": "Model fitted",
          "pharmacies": 3
         },
         {
          "Population": 2230,
          "method": "Model fitted",
          "pharmacies": 2
         },
         {
          "Population": 4221,
          "method": "Model fitted",
          "pharmacies": 4
         },
         {
          "Population": 3953,
          "method": "Model fitted",
          "pharmacies": 3
         },
         {
          "Population": 3436,
          "method": "Model fitted",
          "pharmacies": 3
         },
         {
          "Population": 6408,
          "method": "Model fitted",
          "pharmacies": 4
         },
         {
          "Population": 4067,
          "method": "Model fitted",
          "pharmacies": 3
         },
         {
          "Population": 2882,
          "method": "Model fitted",
          "pharmacies": 2
         },
         {
          "Population": 1562,
          "method": "Model fitted",
          "pharmacies": 2
         },
         {
          "Population": 2150,
          "method": "Model fitted",
          "pharmacies": 2
         },
         {
          "Population": 4513,
          "method": "Model fitted",
          "pharmacies": 3
         },
         {
          "Population": 6394,
          "method": "Model fitted",
          "pharmacies": 4
         },
         {
          "Population": 8622,
          "method": "Model fitted",
          "pharmacies": 4
         },
         {
          "Population": 10637,
          "method": "Model fitted",
          "pharmacies": 6
         },
         {
          "Population": 3013,
          "method": "Model fitted",
          "pharmacies": 3
         },
         {
          "Population": 1560,
          "method": "Model fitted",
          "pharmacies": 2
         },
         {
          "Population": 3262,
          "method": "Model fitted",
          "pharmacies": 2
         },
         {
          "Population": 2697,
          "method": "Model fitted",
          "pharmacies": 3
         },
         {
          "Population": 5321,
          "method": "Model fitted",
          "pharmacies": 4
         },
         {
          "Population": 2178,
          "method": "Model fitted",
          "pharmacies": 2
         },
         {
          "Population": 7907,
          "method": "Model fitted",
          "pharmacies": 4
         },
         {
          "Population": 1714,
          "method": "Model fitted",
          "pharmacies": 2
         },
         {
          "Population": 1130,
          "method": "Model fitted",
          "pharmacies": 1
         },
         {
          "Population": 3939,
          "method": "Model fitted",
          "pharmacies": 3
         },
         {
          "Population": 5279,
          "method": "Model fitted",
          "pharmacies": 4
         },
         {
          "Population": 4520,
          "method": "Model fitted",
          "pharmacies": 3
         },
         {
          "Population": 1331,
          "method": "Model fitted",
          "pharmacies": 2
         },
         {
          "Population": 2745,
          "method": "Model fitted",
          "pharmacies": 3
         },
         {
          "Population": 6719,
          "method": "Model fitted",
          "pharmacies": 4
         },
         {
          "Population": 1257,
          "method": "Model fitted",
          "pharmacies": 1
         },
         {
          "Population": 1614,
          "method": "Model fitted",
          "pharmacies": 2
         },
         {
          "Population": 1395,
          "method": "Model fitted",
          "pharmacies": 1
         },
         {
          "Population": 2963,
          "method": "Model fitted",
          "pharmacies": 2
         },
         {
          "Population": 1534,
          "method": "Model fitted",
          "pharmacies": 2
         },
         {
          "Population": 1419,
          "method": "Model fitted",
          "pharmacies": 1
         },
         {
          "Population": 2130,
          "method": "Model fitted",
          "pharmacies": 2
         },
         {
          "Population": 5351,
          "method": "Model fitted",
          "pharmacies": 3
         },
         {
          "Population": 1876,
          "method": "Model fitted",
          "pharmacies": 2
         },
         {
          "Population": 3490,
          "method": "Model fitted",
          "pharmacies": 3
         },
         {
          "Population": 2080,
          "method": "Model fitted",
          "pharmacies": 2
         },
         {
          "Population": 17587,
          "method": "Model fitted",
          "pharmacies": 5
         },
         {
          "Population": 1501,
          "method": "Model fitted",
          "pharmacies": 2
         },
         {
          "Population": 2049,
          "method": "Model fitted",
          "pharmacies": 2
         },
         {
          "Population": 2194,
          "method": "Model fitted",
          "pharmacies": 2
         },
         {
          "Population": 3233,
          "method": "Model fitted",
          "pharmacies": 3
         },
         {
          "Population": 2114,
          "method": "Model fitted",
          "pharmacies": 2
         },
         {
          "Population": 4644,
          "method": "Model fitted",
          "pharmacies": 2
         },
         {
          "Population": 3964,
          "method": "Model fitted",
          "pharmacies": 3
         },
         {
          "Population": 13663,
          "method": "Model fitted",
          "pharmacies": 6
         },
         {
          "Population": 5368,
          "method": "Model fitted",
          "pharmacies": 3
         },
         {
          "Population": 12878,
          "method": "Model fitted",
          "pharmacies": 4
         },
         {
          "Population": 3184,
          "method": "Model fitted",
          "pharmacies": 3
         },
         {
          "Population": 1576,
          "method": "Model fitted",
          "pharmacies": 2
         },
         {
          "Population": 1979,
          "method": "Model fitted",
          "pharmacies": 2
         },
         {
          "Population": 10508,
          "method": "Model fitted",
          "pharmacies": 6
         },
         {
          "Population": 1811,
          "method": "Model fitted",
          "pharmacies": 2
         },
         {
          "Population": 3643,
          "method": "Model fitted",
          "pharmacies": 3
         },
         {
          "Population": 9269,
          "method": "Model fitted",
          "pharmacies": 5
         },
         {
          "Population": 8742,
          "method": "Model fitted",
          "pharmacies": 5
         },
         {
          "Population": 2460,
          "method": "Model fitted",
          "pharmacies": 2
         },
         {
          "Population": 1752,
          "method": "Model fitted",
          "pharmacies": 2
         },
         {
          "Population": 1208,
          "method": "Model fitted",
          "pharmacies": 1
         },
         {
          "Population": 1099,
          "method": "Model fitted",
          "pharmacies": 2
         },
         {
          "Population": 1141,
          "method": "Model fitted",
          "pharmacies": 2
         },
         {
          "Population": 1303,
          "method": "Model fitted",
          "pharmacies": 1
         },
         {
          "Population": 2064,
          "method": "Model fitted",
          "pharmacies": 2
         },
         {
          "Population": 2800,
          "method": "Model fitted",
          "pharmacies": 3
         },
         {
          "Population": 1786,
          "method": "Model fitted",
          "pharmacies": 2
         },
         {
          "Population": 2126,
          "method": "Model fitted",
          "pharmacies": 2
         },
         {
          "Population": 4479,
          "method": "Model fitted",
          "pharmacies": 3
         },
         {
          "Population": 1089,
          "method": "Model fitted",
          "pharmacies": 2
         },
         {
          "Population": 1982,
          "method": "Model fitted",
          "pharmacies": 2
         },
         {
          "Population": 3219,
          "method": "Model fitted",
          "pharmacies": 2
         },
         {
          "Population": 1168,
          "method": "Model fitted",
          "pharmacies": 2
         },
         {
          "Population": 8832,
          "method": "Model fitted",
          "pharmacies": 5
         },
         {
          "Population": 8713,
          "method": "Model fitted",
          "pharmacies": 4
         },
         {
          "Population": 1053,
          "method": "Model fitted",
          "pharmacies": 1
         },
         {
          "Population": 3802,
          "method": "Model fitted",
          "pharmacies": 3
         },
         {
          "Population": 1976,
          "method": "Model fitted",
          "pharmacies": 2
         },
         {
          "Population": 1957,
          "method": "Model fitted",
          "pharmacies": 1
         },
         {
          "Population": 4604,
          "method": "Model fitted",
          "pharmacies": 2
         },
         {
          "Population": 2904,
          "method": "Model fitted",
          "pharmacies": 2
         },
         {
          "Population": 1373,
          "method": "Model fitted",
          "pharmacies": 2
         },
         {
          "Population": 1848,
          "method": "Model fitted",
          "pharmacies": 2
         },
         {
          "Population": 1242,
          "method": "Model fitted",
          "pharmacies": 1
         },
         {
          "Population": 2127,
          "method": "Model fitted",
          "pharmacies": 2
         },
         {
          "Population": 3491,
          "method": "Model fitted",
          "pharmacies": 2
         },
         {
          "Population": 1097,
          "method": "Model fitted",
          "pharmacies": 1
         },
         {
          "Population": 2394,
          "method": "Model fitted",
          "pharmacies": 2
         },
         {
          "Population": 2523,
          "method": "Model fitted",
          "pharmacies": 2
         },
         {
          "Population": 1225,
          "method": "Model fitted",
          "pharmacies": 2
         },
         {
          "Population": 1038,
          "method": "Model fitted",
          "pharmacies": 1
         },
         {
          "Population": 1680,
          "method": "Model fitted",
          "pharmacies": 2
         },
         {
          "Population": 1036,
          "method": "Model fitted",
          "pharmacies": 1
         },
         {
          "Population": 1675,
          "method": "Model fitted",
          "pharmacies": 2
         },
         {
          "Population": 1125,
          "method": "Model fitted",
          "pharmacies": 1
         },
         {
          "Population": 1632,
          "method": "Model fitted",
          "pharmacies": 2
         },
         {
          "Population": 1142,
          "method": "Model fitted",
          "pharmacies": 2
         },
         {
          "Population": 1053,
          "method": "Model fitted",
          "pharmacies": 2
         },
         {
          "Population": 1252,
          "method": "Model fitted",
          "pharmacies": 2
         },
         {
          "Population": 1266,
          "method": "Model fitted",
          "pharmacies": 2
         },
         {
          "Population": 1222,
          "method": "Model fitted",
          "pharmacies": 1
         },
         {
          "Population": 2018,
          "method": "Model fitted",
          "pharmacies": 2
         },
         {
          "Population": 1237,
          "method": "Model fitted",
          "pharmacies": 1
         },
         {
          "Population": 1051,
          "method": "Model fitted",
          "pharmacies": 1
         },
         {
          "Population": 1170,
          "method": "Model fitted",
          "pharmacies": 1
         },
         {
          "Population": 1095,
          "method": "Model fitted",
          "pharmacies": 1
         },
         {
          "Population": 1081,
          "method": "Model fitted",
          "pharmacies": 2
         },
         {
          "Population": 1147,
          "method": "Model fitted",
          "pharmacies": 1
         },
         {
          "Population": 3580,
          "method": "Model fitted",
          "pharmacies": 3
         },
         {
          "Population": 1714,
          "method": "Model fitted",
          "pharmacies": 2
         },
         {
          "Population": 1003,
          "method": "Model fitted",
          "pharmacies": 1
         },
         {
          "Population": 2167,
          "method": "Model fitted",
          "pharmacies": 2
         },
         {
          "Population": 1951,
          "method": "Model fitted",
          "pharmacies": 2
         },
         {
          "Population": 1741,
          "method": "Model fitted",
          "pharmacies": 2
         },
         {
          "Population": 7021,
          "method": "Model fitted",
          "pharmacies": 4
         },
         {
          "Population": 1160,
          "method": "Model fitted",
          "pharmacies": 2
         },
         {
          "Population": 12643,
          "method": "Model fitted",
          "pharmacies": 6
         },
         {
          "Population": 1553,
          "method": "Model fitted",
          "pharmacies": 2
         },
         {
          "Population": 1674,
          "method": "Model fitted",
          "pharmacies": 2
         }
        ]
       },
       "encoding": {
        "color": {
         "field": "method",
         "type": "nominal"
        },
        "x": {
         "field": "Population",
         "type": "quantitative"
        },
        "y": {
         "field": "pharmacies",
         "type": "quantitative"
        }
       },
       "mark": "line"
      },
      "image/png": "[encoded data removed]",
      "image/svg+xml": [
       "<?xml version=\"1.0\" encoding=\"utf-8\"?>\n",
       "<!DOCTYPE svg PUBLIC \"-//W3C//DTD SVG 1.1//EN\" \"http://www.w3.org/Graphics/SVG/1.1/DTD/svg11.dtd\">\n",
       "<svg class=\"marks\" width=\"389\" height=\"251\" viewBox=\"0 0 389 251\" version=\"1.1\" xmlns=\"http://www.w3.org/2000/svg\" xmlns:xlink=\"http://www.w3.org/1999/xlink\"><g transform=\"translate(52,11)\"><g class=\"mark-group role-frame root\"><g transform=\"translate(0,0)\"><path class=\"background\" d=\"M0.5,0.5h200v200h-200Z\" style=\"fill: none; stroke: #ddd;\"></path><g><g class=\"mark-group role-axis\"><g transform=\"translate(0.5,200.5)\"><path class=\"background\" d=\"M0,0h0v0h0Z\" style=\"pointer-events: none; fill: none;\"></path><g><g class=\"mark-rule role-axis-grid\" style=\"pointer-events: none;\"><line transform=\"translate(0,-200)\" x2=\"0\" y2=\"200\" style=\"fill: none; stroke: #ddd; stroke-width: 1; opacity: 1;\"></line><line transform=\"translate(50,-200)\" x2=\"0\" y2=\"200\" style=\"fill: none; stroke: #ddd; stroke-width: 1; opacity: 1;\"></line><line transform=\"translate(100,-200)\" x2=\"0\" y2=\"200\" style=\"fill: none; stroke: #ddd; stroke-width: 1; opacity: 1;\"></line><line transform=\"translate(150,-200)\" x2=\"0\" y2=\"200\" style=\"fill: none; stroke: #ddd; stroke-width: 1; opacity: 1;\"></line><line transform=\"translate(200,-200)\" x2=\"0\" y2=\"200\" style=\"fill: none; stroke: #ddd; stroke-width: 1; opacity: 1;\"></line></g></g></g></g><g class=\"mark-group role-axis\"><g transform=\"translate(0.5,0.5)\"><path class=\"background\" d=\"M0,0h0v0h0Z\" style=\"pointer-events: none; fill: none;\"></path><g><g class=\"mark-rule role-axis-grid\" style=\"pointer-events: none;\"><line transform=\"translate(0,200)\" x2=\"200\" y2=\"0\" style=\"fill: none; stroke: #ddd; stroke-width: 1; opacity: 1;\"></line><line transform=\"translate(0,167)\" x2=\"200\" y2=\"0\" style=\"fill: none; stroke: #ddd; stroke-width: 1; opacity: 1;\"></line><line transform=\"translate(0,133)\" x2=\"200\" y2=\"0\" style=\"fill: none; stroke: #ddd; stroke-width: 1; opacity: 1;\"></line><line transform=\"translate(0,100)\" x2=\"200\" y2=\"0\" style=\"fill: none; stroke: #ddd; stroke-width: 1; opacity: 1;\"></line><line transform=\"translate(0,67)\" x2=\"200\" y2=\"0\" style=\"fill: none; stroke: #ddd; stroke-width: 1; opacity: 1;\"></line><line transform=\"translate(0,33)\" x2=\"200\" y2=\"0\" style=\"fill: none; stroke: #ddd; stroke-width: 1; opacity: 1;\"></line><line transform=\"translate(0,0)\" x2=\"200\" y2=\"0\" style=\"fill: none; stroke: #ddd; stroke-width: 1; opacity: 1;\"></line></g></g></g></g><g class=\"mark-group role-scope pathgroup\"><g transform=\"translate(0,0)\"><path class=\"background\" d=\"M0,0h200v200h-200Z\" style=\"fill: none;\"></path><g><g class=\"mark-line role-mark marks\"><path d=\"M198.97,66.66666666666669L175.87,0L136.63,0L128.78,33.333333333333314L126.42999999999999,0L115.74,0L106.37,100L105.08,0L92.69,66.66666666666669L91.32000000000001,100L90.23,33.333333333333314L88.32,0L87.42,100L87.13,66.66666666666669L86.22,66.66666666666669L80.95,0L79.07,33.333333333333314L70.21,166.66666666666669L67.19000000000001,133.33333333333334L65.2,0L64.08,100L63.94,100L53.68000000000001,33.333333333333314L53.510000000000005,33.333333333333314L53.21,66.66666666666669L52.790000000000006,100L52.26,66.66666666666669L51.13999999999999,133.33333333333334L48.5,100L47.910000000000004,66.66666666666669L46.44,100L46.04,200L45.2,133.33333333333334L45.129999999999995,100L44.79,133.33333333333334L42.21,100L41.67,100L40.67,100L39.64,33.333333333333314L39.53,66.66666666666669L39.39,33.333333333333314L38.019999999999996,100L36.65,133.33333333333334L36.43,133.33333333333334L36,200L35.8,100L34.910000000000004,166.66666666666669L34.9,66.66666666666669L34.36,100L33.660000000000004,133.33333333333334L32.62,133.33333333333334L32.4,100L32.33,0L32.190000000000005,166.66666666666669L31.840000000000003,33.333333333333314L31.4,66.66666666666669L31.080000000000002,66.66666666666669L30.209999999999997,66.66666666666669L30.130000000000003,133.33333333333334L29.64,133.33333333333334L29.630000000000003,0L29.04,200L28.82,133.33333333333334L28.000000000000004,133.33333333333334L27.63,133.33333333333334L27.450000000000003,133.33333333333334L26.97,33.333333333333314L25.81,133.33333333333334L25.230000000000004,200L24.6,66.66666666666669L23.94,166.66666666666669L22.63,166.66666666666669L22.46,33.333333333333314L22.3,100L21.94,100L21.78,133.33333333333334L21.67,166.66666666666669L21.5,200L21.3,66.66666666666669L21.27,66.66666666666669L21.26,133.33333333333334L21.14,100L20.8,0L20.64,133.33333333333334L20.49,133.33333333333334L20.18,166.66666666666669L19.82,133.33333333333334L19.79,100L19.759999999999998,133.33333333333334L19.57,133.33333333333334L19.509999999999998,133.33333333333334L19.32,100L18.759999999999998,66.66666666666669L18.48,200L18.11,100L17.86,200L17.52,133.33333333333334L17.41,133.33333333333334L17.22,133.33333333333334L17.14,133.33333333333334L17.14,133.33333333333334L16.82,33.333333333333314L16.8,200L16.75,200L16.74,200L16.56,166.66666666666669L16.32,166.66666666666669L16.14,133.33333333333334L15.76,66.66666666666669L15.620000000000001,133.33333333333334L15.6,166.66666666666669L15.53,0L15.340000000000002,100L15.1,166.66666666666669L15.010000000000002,100L14.19,100L13.950000000000001,133.33333333333334L13.73,200L13.309999999999999,100L13.07,133.33333333333334L13.03,166.66666666666669L12.659999999999998,100L12.57,166.66666666666669L12.520000000000001,166.66666666666669L12.42,200L12.370000000000001,200L12.25,166.66666666666669L12.22,166.66666666666669L12.08,200L11.700000000000001,200L11.68,166.66666666666669L11.600000000000001,200L11.469999999999999,133.33333333333334L11.42,100L11.41,133.33333333333334L11.3,166.66666666666669L11.25,166.66666666666669L10.99,166.66666666666669L10.97,133.33333333333334L10.95,166.66666666666669L10.89,166.66666666666669L10.84,133.33333333333334L10.81,200L10.530000000000001,133.33333333333334L10.530000000000001,33.333333333333314L10.51,133.33333333333334L10.38,200L10.36,66.66666666666669L10.07,200L10.03,200\" style=\"fill: none; stroke: #e45756; stroke-width: 2;\"></path></g></g></g><g transform=\"translate(0,0)\"><path class=\"background\" d=\"M0,0h200v200h-200Z\" style=\"fill: none;\"></path><g><g class=\"mark-line role-mark marks\"><path d=\"M198.97,12.486045529472648L175.87,28.09207599906864L136.63,27.9802391242427L128.78,48.47556999744543L126.42999999999999,22.763317918360116L115.74,43.893488643100085L106.37,39.5084353719881L105.08,42.24251752684154L92.69,56.567929221107505L91.32000000000001,54.464021152530506L90.23,49.611123198529725L88.32,49.80715952785735L87.42,53.85415810722057L87.13,71.05136018242774L86.22,50.63590982585768L80.95,68.87002851946013L79.07,71.84840561510848L70.21,70.52111448980156L67.19000000000001,69.02261110915802L65.2,59.52707419762635L64.08,68.0010025535232L63.94,73.71469740813306L53.68000000000001,94.0438797586123L53.510000000000005,81.13516901048745L53.21,83.53447159616844L52.790000000000006,79.80313226375799L52.26,77.86641216919732L51.13999999999999,86.71163091512588L48.5,101.5485786766141L47.910000000000004,90.11421505670111L46.44,103.49254542047058L46.04,101.46053379575625L45.2,86.25798180928663L45.129999999999995,97.03773791076541L44.79,92.76781610237721L42.21,87.34339403127072L41.67,107.275572515437L40.67,89.1736852101799L39.64,98.81954439324343L39.53,89.69795460529555L39.39,114.36915818056619L38.019999999999996,98.29238451692058L36.65,88.0712117591157L36.43,102.44155993898491L36,112.12836925867448L35.8,88.39838265633568L34.910000000000004,128.0512574696982L34.9,93.45192129510187L34.36,99.57634879154756L33.660000000000004,105.07401900767141L32.62,110.01010790759534L32.4,109.19484333394823L32.33,105.43656610811564L32.190000000000005,117.09257073842697L31.840000000000003,96.19407123410394L31.4,96.63349482666959L31.080000000000002,99.24341495068828L30.209999999999997,107.20324451303881L30.130000000000003,104.39335964473196L29.64,104.173336903831L29.630000000000003,111.8006413459678L29.04,125.35025302963106L28.82,119.82481292663518L28.000000000000004,101.47515976424931L27.63,98.54284833099905L27.450000000000003,105.77089247899778L26.97,98.05690896810371L25.81,97.6589758988223L25.230000000000004,130.72655387290376L24.6,125.91748000548208L23.94,121.78801467954413L22.63,115.44446862368552L22.46,122.34736288233815L22.3,113.12068356072345L21.94,121.03542295271293L21.78,130.28246089497628L21.67,108.8798245166902L21.5,129.92271946941378L21.3,123.57526415115157L21.27,124.12580437654634L21.26,123.00609483647969L21.14,134.8448972713356L20.8,113.23339883573598L20.64,138.68106697808156L20.49,116.38982811022176L20.18,116.18055193357296L19.82,122.74723288668284L19.79,132.3224257920041L19.759999999999998,116.6365316550058L19.57,161.43114148934183L19.509999999999998,126.8515313319523L19.32,129.11916273877426L18.759999999999998,135.830060140709L18.48,138.59924276249905L18.11,129.8538356566533L17.86,123.58144513505476L17.52,134.42641841435898L17.41,137.7032181930115L17.22,122.9219238180821L17.14,141.9126167293132L17.14,125.71054602884105L16.82,145.3415264739958L16.8,153.58924039614712L16.75,147.56484549082168L16.74,135.85152355900595L16.56,138.97161504970413L16.32,142.46179000880443L16.14,138.877608741084L15.76,150.44763435867708L15.620000000000001,141.55159776764918L15.6,135.4878234763601L15.53,119.89443196800225L15.340000000000002,136.44925122385092L15.1,140.4842607030402L15.010000000000002,138.3147104849061L14.19,167.46574221944698L13.950000000000001,145.88433400106493L13.73,144.2255947826825L13.309999999999999,138.68759216821962L13.07,124.40924799037973L13.03,147.47503751171539L12.659999999999998,137.6185115285215L12.57,168.76383494231774L12.520000000000001,149.19027166445483L12.42,147.10218416595694L12.370000000000001,165.60493218271682L12.25,141.11256321723317L12.22,162.63922724311166L12.08,144.5610159575007L11.700000000000001,163.69678704072314L11.68,134.26441019848863L11.600000000000001,154.36849583132766L11.469999999999999,125.53379308066769L11.42,134.35627663931945L11.41,140.4943941066718L11.3,156.10936837869173L11.25,155.5963423394525L10.99,152.9661320684065L10.97,177.96751682237417L10.95,148.80199782912524L10.89,142.15030426047068L10.84,139.81115699801177L10.81,151.50915907243913L10.530000000000001,142.33556247835423L10.530000000000001,143.1032455867304L10.51,153.50298263745015L10.38,183.9925583121505L10.36,170.9551896922679L10.07,153.03647408228795L10.03,150.67134963788476\" style=\"fill: none; stroke: #f58518; stroke-width: 2;\"></path></g></g></g><g transform=\"translate(0,0)\"><path class=\"background\" d=\"M0,0h200v200h-200Z\" style=\"fill: none;\"></path><g><g class=\"mark-line role-mark marks\"><path d=\"M198.97,33.333333333333314L175.87,33.333333333333314L136.63,0L128.78,66.66666666666669L126.42999999999999,0L115.74,33.333333333333314L106.37,0L105.08,0L92.69,33.333333333333314L91.32000000000001,66.66666666666669L90.23,33.333333333333314L88.32,33.333333333333314L87.42,33.333333333333314L87.13,66.66666666666669L86.22,66.66666666666669L80.95,66.66666666666669L79.07,66.66666666666669L70.21,66.66666666666669L67.19000000000001,66.66666666666669L65.2,33.333333333333314L64.08,66.66666666666669L63.94,66.66666666666669L53.68000000000001,100L53.510000000000005,100L53.21,66.66666666666669L52.790000000000006,66.66666666666669L52.26,66.66666666666669L51.13999999999999,100L48.5,100L47.910000000000004,100L46.44,133.33333333333334L46.04,133.33333333333334L45.2,100L45.129999999999995,100L44.79,100L42.21,66.66666666666669L41.67,100L40.67,100L39.64,100L39.53,100L39.39,100L38.019999999999996,100L36.65,100L36.43,100L36,100L35.8,100L34.910000000000004,133.33333333333334L34.9,100L34.36,100L33.660000000000004,133.33333333333334L32.62,133.33333333333334L32.4,100L32.33,100L32.190000000000005,133.33333333333334L31.840000000000003,100L31.4,100L31.080000000000002,100L30.209999999999997,133.33333333333334L30.130000000000003,100L29.64,100L29.630000000000003,133.33333333333334L29.04,133.33333333333334L28.82,133.33333333333334L28.000000000000004,100L27.63,100L27.450000000000003,100L26.97,100L25.81,100L25.230000000000004,133.33333333333334L24.6,133.33333333333334L23.94,133.33333333333334L22.63,133.33333333333334L22.46,133.33333333333334L22.3,133.33333333333334L21.94,133.33333333333334L21.78,133.33333333333334L21.67,133.33333333333334L21.5,133.33333333333334L21.3,133.33333333333334L21.27,133.33333333333334L21.26,133.33333333333334L21.14,133.33333333333334L20.8,133.33333333333334L20.64,133.33333333333334L20.49,133.33333333333334L20.18,133.33333333333334L19.82,133.33333333333334L19.79,133.33333333333334L19.759999999999998,133.33333333333334L19.57,166.66666666666669L19.509999999999998,133.33333333333334L19.32,133.33333333333334L18.759999999999998,133.33333333333334L18.48,133.33333333333334L18.11,133.33333333333334L17.86,133.33333333333334L17.52,133.33333333333334L17.41,133.33333333333334L17.22,133.33333333333334L17.14,133.33333333333334L17.14,133.33333333333334L16.82,133.33333333333334L16.8,133.33333333333334L16.75,133.33333333333334L16.74,133.33333333333334L16.56,133.33333333333334L16.32,133.33333333333334L16.14,133.33333333333334L15.76,133.33333333333334L15.620000000000001,133.33333333333334L15.6,133.33333333333334L15.53,133.33333333333334L15.340000000000002,133.33333333333334L15.1,133.33333333333334L15.010000000000002,133.33333333333334L14.19,166.66666666666669L13.950000000000001,166.66666666666669L13.73,133.33333333333334L13.309999999999999,133.33333333333334L13.07,133.33333333333334L13.03,166.66666666666669L12.659999999999998,133.33333333333334L12.57,166.66666666666669L12.520000000000001,133.33333333333334L12.42,166.66666666666669L12.370000000000001,166.66666666666669L12.25,133.33333333333334L12.22,166.66666666666669L12.08,166.66666666666669L11.700000000000001,166.66666666666669L11.68,133.33333333333334L11.600000000000001,133.33333333333334L11.469999999999999,166.66666666666669L11.42,133.33333333333334L11.41,133.33333333333334L11.3,166.66666666666669L11.25,166.66666666666669L10.99,133.33333333333334L10.97,166.66666666666669L10.95,166.66666666666669L10.89,133.33333333333334L10.84,133.33333333333334L10.81,133.33333333333334L10.530000000000001,166.66666666666669L10.530000000000001,133.33333333333334L10.51,166.66666666666669L10.38,166.66666666666669L10.36,166.66666666666669L10.07,166.66666666666669L10.03,166.66666666666669\" style=\"fill: none; stroke: #4c78a8; stroke-width: 2;\"></path></g></g></g></g><g class=\"mark-group role-legend\"><g transform=\"translate(219,0)\"><path class=\"background\" d=\"M0,0h113v61h-113Z\" style=\"pointer-events: none; fill: none;\"></path><g><g class=\"mark-group role-legend-entry\"><g transform=\"translate(0,16)\"><path class=\"background\" d=\"M0,0h0v0h0Z\" style=\"pointer-events: none; fill: none;\"></path><g><g class=\"mark-group role-scope\"><g transform=\"translate(0,0)\"><path class=\"background\" d=\"M0,0h113v12.5h-113Z\" style=\"pointer-events: none; fill: none; opacity: 1;\"></path><g><g class=\"mark-symbol role-legend-symbol\" style=\"pointer-events: none;\"><path transform=\"translate(6,6)\" d=\"M5,0A5,5,0,1,1,-5,0A5,5,0,1,1,5,0\" style=\"fill: none; stroke: #4c78a8; stroke-width: 1.5; opacity: 1;\"></path></g><g class=\"mark-text role-legend-label\" style=\"pointer-events: none;\"><text text-anchor=\"start\" transform=\"translate(16,9)\" style=\"font-family: sans-serif; font-size: 10px; fill: #000; opacity: 1;\">Model fitted</text></g></g></g><g transform=\"translate(0,16)\"><path class=\"background\" d=\"M0,0h113v12.5h-113Z\" style=\"pointer-events: none; fill: none; opacity: 1;\"></path><g><g class=\"mark-symbol role-legend-symbol\" style=\"pointer-events: none;\"><path transform=\"translate(6,6)\" d=\"M5,0A5,5,0,1,1,-5,0A5,5,0,1,1,5,0\" style=\"fill: none; stroke: #f58518; stroke-width: 1.5; opacity: 1;\"></path></g><g class=\"mark-text role-legend-label\" style=\"pointer-events: none;\"><text text-anchor=\"start\" transform=\"translate(16,9)\" style=\"font-family: sans-serif; font-size: 10px; fill: #000; opacity: 1;\">OLS fitted</text></g></g></g><g transform=\"translate(0,32)\"><path class=\"background\" d=\"M0,0h113v12.5h-113Z\" style=\"pointer-events: none; fill: none; opacity: 1;\"></path><g><g class=\"mark-symbol role-legend-symbol\" style=\"pointer-events: none;\"><path transform=\"translate(6,6)\" d=\"M5,0A5,5,0,1,1,-5,0A5,5,0,1,1,5,0\" style=\"fill: none; stroke: #e45756; stroke-width: 1.5; opacity: 1;\"></path></g><g class=\"mark-text role-legend-label\" style=\"pointer-events: none;\"><text text-anchor=\"start\" transform=\"translate(16,9)\" style=\"font-family: sans-serif; font-size: 10px; fill: #000; opacity: 1;\">actual</text></g></g></g></g></g></g></g><g class=\"mark-text role-legend-title\" style=\"pointer-events: none;\"><text text-anchor=\"start\" transform=\"translate(0,9)\" style=\"font-family: sans-serif; font-size: 11px; font-weight: bold; fill: #000; opacity: 1;\">method</text></g></g></g></g><g class=\"mark-group role-axis\"><g transform=\"translate(0.5,200.5)\"><path class=\"background\" d=\"M0,0h0v0h0Z\" style=\"pointer-events: none; fill: none;\"></path><g><g class=\"mark-rule role-axis-tick\" style=\"pointer-events: none;\"><line transform=\"translate(0,0)\" x2=\"0\" y2=\"5\" style=\"fill: none; stroke: #888; stroke-width: 1; opacity: 1;\"></line><line transform=\"translate(50,0)\" x2=\"0\" y2=\"5\" style=\"fill: none; stroke: #888; stroke-width: 1; opacity: 1;\"></line><line transform=\"translate(100,0)\" x2=\"0\" y2=\"5\" style=\"fill: none; stroke: #888; stroke-width: 1; opacity: 1;\"></line><line transform=\"translate(150,0)\" x2=\"0\" y2=\"5\" style=\"fill: none; stroke: #888; stroke-width: 1; opacity: 1;\"></line><line transform=\"translate(200,0)\" x2=\"0\" y2=\"5\" style=\"fill: none; stroke: #888; stroke-width: 1; opacity: 1;\"></line></g><g class=\"mark-text role-axis-label\" style=\"pointer-events: none;\"><text text-anchor=\"start\" transform=\"translate(0,15)\" style=\"font-family: sans-serif; font-size: 10px; fill: #000; opacity: 1;\">0</text><text text-anchor=\"middle\" transform=\"translate(50,15)\" style=\"font-family: sans-serif; font-size: 10px; fill: #000; opacity: 0;\">5,000</text><text text-anchor=\"middle\" transform=\"translate(100,15)\" style=\"font-family: sans-serif; font-size: 10px; fill: #000; opacity: 1;\">10,000</text><text text-anchor=\"middle\" transform=\"translate(150,15)\" style=\"font-family: sans-serif; font-size: 10px; fill: #000; opacity: 0;\">15,000</text><text text-anchor=\"end\" transform=\"translate(200,15)\" style=\"font-family: sans-serif; font-size: 10px; fill: #000; opacity: 1;\">20,000</text></g><g class=\"mark-rule role-axis-domain\" style=\"pointer-events: none;\"><line transform=\"translate(0,0)\" x2=\"200\" y2=\"0\" style=\"fill: none; stroke: #888; stroke-width: 1; opacity: 1;\"></line></g><g class=\"mark-text role-axis-title\" style=\"pointer-events: none;\"><text text-anchor=\"middle\" transform=\"translate(100,31)\" style=\"font-family: sans-serif; font-size: 11px; font-weight: bold; fill: #000; opacity: 1;\">Population</text></g></g></g></g><g class=\"mark-group role-axis\"><g transform=\"translate(0.5,0.5)\"><path class=\"background\" d=\"M0,0h0v0h0Z\" style=\"pointer-events: none; fill: none;\"></path><g><g class=\"mark-rule role-axis-tick\" style=\"pointer-events: none;\"><line transform=\"translate(0,200)\" x2=\"-5\" y2=\"0\" style=\"fill: none; stroke: #888; stroke-width: 1; opacity: 1;\"></line><line transform=\"translate(0,167)\" x2=\"-5\" y2=\"0\" style=\"fill: none; stroke: #888; stroke-width: 1; opacity: 1;\"></line><line transform=\"translate(0,133)\" x2=\"-5\" y2=\"0\" style=\"fill: none; stroke: #888; stroke-width: 1; opacity: 1;\"></line><line transform=\"translate(0,100)\" x2=\"-5\" y2=\"0\" style=\"fill: none; stroke: #888; stroke-width: 1; opacity: 1;\"></line><line transform=\"translate(0,67)\" x2=\"-5\" y2=\"0\" style=\"fill: none; stroke: #888; stroke-width: 1; opacity: 1;\"></line><line transform=\"translate(0,33)\" x2=\"-5\" y2=\"0\" style=\"fill: none; stroke: #888; stroke-width: 1; opacity: 1;\"></line><line transform=\"translate(0,0)\" x2=\"-5\" y2=\"0\" style=\"fill: none; stroke: #888; stroke-width: 1; opacity: 1;\"></line></g><g class=\"mark-text role-axis-label\" style=\"pointer-events: none;\"><text text-anchor=\"end\" transform=\"translate(-7,203)\" style=\"font-family: sans-serif; font-size: 10px; fill: #000; opacity: 1;\">0</text><text text-anchor=\"end\" transform=\"translate(-7,169.66666666666669)\" style=\"font-family: sans-serif; font-size: 10px; fill: #000; opacity: 1;\">1</text><text text-anchor=\"end\" transform=\"translate(-7,136.33333333333334)\" style=\"font-family: sans-serif; font-size: 10px; fill: #000; opacity: 1;\">2</text><text text-anchor=\"end\" transform=\"translate(-7,103)\" style=\"font-family: sans-serif; font-size: 10px; fill: #000; opacity: 1;\">3</text><text text-anchor=\"end\" transform=\"translate(-7,69.66666666666669)\" style=\"font-family: sans-serif; font-size: 10px; fill: #000; opacity: 1;\">4</text><text text-anchor=\"end\" transform=\"translate(-7,36.333333333333314)\" style=\"font-family: sans-serif; font-size: 10px; fill: #000; opacity: 1;\">5</text><text text-anchor=\"end\" transform=\"translate(-7,3)\" style=\"font-family: sans-serif; font-size: 10px; fill: #000; opacity: 1;\">6</text></g><g class=\"mark-rule role-axis-domain\" style=\"pointer-events: none;\"><line transform=\"translate(0,200)\" x2=\"0\" y2=\"-200\" style=\"fill: none; stroke: #888; stroke-width: 1; opacity: 1;\"></line></g><g class=\"mark-text role-axis-title\" style=\"pointer-events: none;\"><text text-anchor=\"middle\" transform=\"translate(-34,100) rotate(-90) translate(0,-2)\" style=\"font-family: sans-serif; font-size: 11px; font-weight: bold; fill: #000; opacity: 1;\">pharmacies</text></g></g></g></g></g></g></g></g></svg>"
      ],
      "text/plain": [
       "VegaLite.VLSpec{:plot}"
      ]
     },
     "execution_count": 371,
     "metadata": {},
     "output_type": "execute_result"
    }
   ],
   "source": [
    "#Creating the line graph\n",
    "\n",
    "AllData |>\n",
    "@vlplot(:line,enc={x=:Population,y=:pharmacies,color=:method})"
   ]
  },
  {
   "cell_type": "markdown",
   "metadata": {},
   "source": [
    "Obviously this looks pretty brutal. This issue is that there are too many data points with too much variation in \n",
    "the actual data, especially for low poppulation centres. Next im only going to use the first 25 datapoints to see if we can get something that has a bit better of an interpretation.\n"
   ]
  },
  {
   "cell_type": "code",
   "execution_count": 372,
   "metadata": {},
   "outputs": [],
   "source": [
    "#cut the AllData datafrome down \n",
    "\n",
    "AllCut1 = AllData[1:25, [:Population, :pharmacies, :method]];\n",
    "AllCut2 = AllData[151:175, [:Population, :pharmacies, :method]];\n",
    "AllCut3 = AllData[301:325, [:Population, :pharmacies, :method]];\n",
    "\n",
    "AllCutFinal = vcat(AllCut1, AllCut2, AllCut3);"
   ]
  },
  {
   "cell_type": "code",
   "execution_count": 373,
   "metadata": {},
   "outputs": [
    {
     "data": {
      "application/vnd.vegalite.v2+json": {
       "data": {
        "values": [
         {
          "Population": 4167,
          "method": "actual",
          "pharmacies": 3
         },
         {
          "Population": 5114,
          "method": "actual",
          "pharmacies": 2
         },
         {
          "Population": 1084,
          "method": "actual",
          "pharmacies": 2
         },
         {
          "Population": 2581,
          "method": "actual",
          "pharmacies": 2
         },
         {
          "Population": 1656,
          "method": "actual",
          "pharmacies": 1
         },
         {
          "Population": 3140,
          "method": "actual",
          "pharmacies": 4
         },
         {
          "Population": 2763,
          "method": "actual",
          "pharmacies": 2
         },
         {
          "Population": 1722,
          "method": "actual",
          "pharmacies": 2
         },
         {
          "Population": 1307,
          "method": "actual",
          "pharmacies": 2
         },
         {
          "Population": 1932,
          "method": "actual",
          "pharmacies": 3
         },
         {
          "Population": 3108,
          "method": "actual",
          "pharmacies": 4
         },
         {
          "Population": 1682,
          "method": "actual",
          "pharmacies": 5
         },
         {
          "Population": 6520,
          "method": "actual",
          "pharmacies": 6
         },
         {
          "Population": 9023,
          "method": "actual",
          "pharmacies": 5
         },
         {
          "Population": 3665,
          "method": "actual",
          "pharmacies": 2
         },
         {
          "Population": 2263,
          "method": "actual",
          "pharmacies": 1
         },
         {
          "Population": 3021,
          "method": "actual",
          "pharmacies": 4
         },
         {
          "Population": 5226,
          "method": "actual",
          "pharmacies": 4
         },
         {
          "Population": 3600,
          "method": "actual",
          "pharmacies": 0
         },
         {
          "Population": 8095,
          "method": "actual",
          "pharmacies": 6
         },
         {
          "Population": 11574,
          "method": "actual",
          "pharmacies": 6
         },
         {
          "Population": 2964,
          "method": "actual",
          "pharmacies": 2
         },
         {
          "Population": 4850,
          "method": "actual",
          "pharmacies": 3
         },
         {
          "Population": 4791,
          "method": "actual",
          "pharmacies": 4
         },
         {
          "Population": 3366,
          "method": "actual",
          "pharmacies": 2
         },
         {
          "Population": 4167,
          "method": "OLS fitted",
          "pharmacies": 2.7817328245368897
         },
         {
          "Population": 5114,
          "method": "OLS fitted",
          "pharmacies": 3.3986510725462233
         },
         {
          "Population": 1084,
          "method": "OLS fitted",
          "pharmacies": 1.8056652900596473
         },
         {
          "Population": 2581,
          "method": "OLS fitted",
          "pharmacies": 3.0702307230353307
         },
         {
          "Population": 1656,
          "method": "OLS fitted",
          "pharmacies": 1.830851548508876
         },
         {
          "Population": 3140,
          "method": "OLS fitted",
          "pharmacies": 3.100995155199912
         },
         {
          "Population": 2763,
          "method": "OLS fitted",
          "pharmacies": 3.0437145500700287
         },
         {
          "Population": 1722,
          "method": "OLS fitted",
          "pharmacies": 2.312342285457537
         },
         {
          "Population": 1307,
          "method": "OLS fitted",
          "pharmacies": 2.2677225602886084
         },
         {
          "Population": 1932,
          "method": "OLS fitted",
          "pharmacies": 2.1264251178367726
         },
         {
          "Population": 3108,
          "method": "OLS fitted",
          "pharmacies": 3.022697551479352
         },
         {
          "Population": 1682,
          "method": "OLS fitted",
          "pharmacies": 1.6397542057801258
         },
         {
          "Population": 6520,
          "method": "OLS fitted",
          "pharmacies": 4.21418777407121
         },
         {
          "Population": 9023,
          "method": "OLS fitted",
          "pharmacies": 4.511666304044108
         },
         {
          "Population": 3665,
          "method": "OLS fitted",
          "pharmacies": 3.357863647226529
         },
         {
          "Population": 2263,
          "method": "OLS fitted",
          "pharmacies": 2.536665941289434
         },
         {
          "Population": 3021,
          "method": "OLS fitted",
          "pharmacies": 2.783902664608836
         },
         {
          "Population": 5226,
          "method": "OLS fitted",
          "pharmacies": 3.6640076349240807
         },
         {
          "Population": 3600,
          "method": "OLS fitted",
          "pharmacies": 2.636148922239766
         },
         {
          "Population": 8095,
          "method": "OLS fitted",
          "pharmacies": 3.9338991444161957
         },
         {
          "Population": 11574,
          "method": "OLS fitted",
          "pharmacies": 4.683195340706997
         },
         {
          "Population": 2964,
          "method": "OLS fitted",
          "pharmacies": 2.8747998928850698
         },
         {
          "Population": 4850,
          "method": "OLS fitted",
          "pharmacies": 2.953542639701577
         },
         {
          "Population": 4791,
          "method": "OLS fitted",
          "pharmacies": 3.296573548298966
         },
         {
          "Population": 3366,
          "method": "OLS fitted",
          "pharmacies": 2.8477794297698575
         },
         {
          "Population": 4167,
          "method": "Model fitted",
          "pharmacies": 3
         },
         {
          "Population": 5114,
          "method": "Model fitted",
          "pharmacies": 3
         },
         {
          "Population": 1084,
          "method": "Model fitted",
          "pharmacies": 2
         },
         {
          "Population": 2581,
          "method": "Model fitted",
          "pharmacies": 3
         },
         {
          "Population": 1656,
          "method": "Model fitted",
          "pharmacies": 2
         },
         {
          "Population": 3140,
          "method": "Model fitted",
          "pharmacies": 3
         },
         {
          "Population": 2763,
          "method": "Model fitted",
          "pharmacies": 3
         },
         {
          "Population": 1722,
          "method": "Model fitted",
          "pharmacies": 2
         },
         {
          "Population": 1307,
          "method": "Model fitted",
          "pharmacies": 2
         },
         {
          "Population": 1932,
          "method": "Model fitted",
          "pharmacies": 2
         },
         {
          "Population": 3108,
          "method": "Model fitted",
          "pharmacies": 3
         },
         {
          "Population": 1682,
          "method": "Model fitted",
          "pharmacies": 2
         },
         {
          "Population": 6520,
          "method": "Model fitted",
          "pharmacies": 5
         },
         {
          "Population": 9023,
          "method": "Model fitted",
          "pharmacies": 5
         },
         {
          "Population": 3665,
          "method": "Model fitted",
          "pharmacies": 3
         },
         {
          "Population": 2263,
          "method": "Model fitted",
          "pharmacies": 2
         },
         {
          "Population": 3021,
          "method": "Model fitted",
          "pharmacies": 2
         },
         {
          "Population": 5226,
          "method": "Model fitted",
          "pharmacies": 4
         },
         {
          "Population": 3600,
          "method": "Model fitted",
          "pharmacies": 3
         },
         {
          "Population": 8095,
          "method": "Model fitted",
          "pharmacies": 4
         },
         {
          "Population": 11574,
          "method": "Model fitted",
          "pharmacies": 5
         },
         {
          "Population": 2964,
          "method": "Model fitted",
          "pharmacies": 3
         },
         {
          "Population": 4850,
          "method": "Model fitted",
          "pharmacies": 3
         },
         {
          "Population": 4791,
          "method": "Model fitted",
          "pharmacies": 3
         },
         {
          "Population": 3366,
          "method": "Model fitted",
          "pharmacies": 2
         }
        ]
       },
       "encoding": {
        "color": {
         "field": "method",
         "type": "nominal"
        },
        "x": {
         "field": "Population",
         "type": "quantitative"
        },
        "y": {
         "field": "pharmacies",
         "type": "quantitative"
        }
       },
       "mark": "line",
       "title": "Model Fit 2"
      },
      "image/png": "[encoded data removed]",
      "image/svg+xml": [
       "<?xml version=\"1.0\" encoding=\"utf-8\"?>\n",
       "<!DOCTYPE svg PUBLIC \"-//W3C//DTD SVG 1.1//EN\" \"http://www.w3.org/Graphics/SVG/1.1/DTD/svg11.dtd\">\n",
       "<svg class=\"marks\" width=\"388\" height=\"269\" viewBox=\"0 0 388 269\" version=\"1.1\" xmlns=\"http://www.w3.org/2000/svg\" xmlns:xlink=\"http://www.w3.org/1999/xlink\"><g transform=\"translate(52,29)\"><g class=\"mark-group role-frame root\"><g transform=\"translate(0,0)\"><path class=\"background\" d=\"M0.5,0.5h200v200h-200Z\" style=\"fill: none; stroke: #ddd;\"></path><g><g class=\"mark-group role-axis\"><g transform=\"translate(0.5,200.5)\"><path class=\"background\" d=\"M0,0h0v0h0Z\" style=\"pointer-events: none; fill: none;\"></path><g><g class=\"mark-rule role-axis-grid\" style=\"pointer-events: none;\"><line transform=\"translate(18,-200)\" x2=\"0\" y2=\"200\" style=\"fill: none; stroke: #ddd; stroke-width: 1; opacity: 1;\"></line><line transform=\"translate(55,-200)\" x2=\"0\" y2=\"200\" style=\"fill: none; stroke: #ddd; stroke-width: 1; opacity: 1;\"></line><line transform=\"translate(91,-200)\" x2=\"0\" y2=\"200\" style=\"fill: none; stroke: #ddd; stroke-width: 1; opacity: 1;\"></line><line transform=\"translate(127,-200)\" x2=\"0\" y2=\"200\" style=\"fill: none; stroke: #ddd; stroke-width: 1; opacity: 1;\"></line><line transform=\"translate(164,-200)\" x2=\"0\" y2=\"200\" style=\"fill: none; stroke: #ddd; stroke-width: 1; opacity: 1;\"></line><line transform=\"translate(200,-200)\" x2=\"0\" y2=\"200\" style=\"fill: none; stroke: #ddd; stroke-width: 1; opacity: 1;\"></line></g></g></g></g><g class=\"mark-group role-axis\"><g transform=\"translate(0.5,0.5)\"><path class=\"background\" d=\"M0,0h0v0h0Z\" style=\"pointer-events: none; fill: none;\"></path><g><g class=\"mark-rule role-axis-grid\" style=\"pointer-events: none;\"><line transform=\"translate(0,200)\" x2=\"200\" y2=\"0\" style=\"fill: none; stroke: #ddd; stroke-width: 1; opacity: 1;\"></line><line transform=\"translate(0,167)\" x2=\"200\" y2=\"0\" style=\"fill: none; stroke: #ddd; stroke-width: 1; opacity: 1;\"></line><line transform=\"translate(0,133)\" x2=\"200\" y2=\"0\" style=\"fill: none; stroke: #ddd; stroke-width: 1; opacity: 1;\"></line><line transform=\"translate(0,100)\" x2=\"200\" y2=\"0\" style=\"fill: none; stroke: #ddd; stroke-width: 1; opacity: 1;\"></line><line transform=\"translate(0,67)\" x2=\"200\" y2=\"0\" style=\"fill: none; stroke: #ddd; stroke-width: 1; opacity: 1;\"></line><line transform=\"translate(0,33)\" x2=\"200\" y2=\"0\" style=\"fill: none; stroke: #ddd; stroke-width: 1; opacity: 1;\"></line><line transform=\"translate(0,0)\" x2=\"200\" y2=\"0\" style=\"fill: none; stroke: #ddd; stroke-width: 1; opacity: 1;\"></line></g></g></g></g><g class=\"mark-group role-scope pathgroup\"><g transform=\"translate(0,0)\"><path class=\"background\" d=\"M0,0h200v200h-200Z\" style=\"fill: none;\"></path><g><g class=\"mark-line role-mark marks\"><path d=\"M192.25454545454545,0L145.87272727272727,33.333333333333314L129,0L100.36363636363636,0L76.83636363636364,66.66666666666669L74.8,133.33333333333334L70,100L68.92727272727272,66.66666666666669L57.58181818181818,100L48.45454545454545,133.33333333333334L47.27272727272727,200L43.018181818181816,133.33333333333334L38.90909090909091,66.66666666666669L38.32727272727273,66.66666666666669L36.74545454545455,66.66666666666669L35.709090909090904,133.33333333333334L32.054545454545455,133.33333333333334L28.745454545454546,133.33333333333334L22.963636363636365,166.66666666666669L16.945454545454545,100L13.127272727272727,133.33333333333334L12.4,33.333333333333314L11.927272727272726,166.66666666666669L5.581818181818181,133.33333333333334L1.5272727272727273,133.33333333333334\" style=\"fill: none; stroke: #e45756; stroke-width: 2;\"></path></g></g></g><g transform=\"translate(0,0)\"><path class=\"background\" d=\"M0,0h200v200h-200Z\" style=\"fill: none;\"></path><g><g class=\"mark-line role-mark marks\"><path d=\"M192.25454545454545,43.893488643100085L145.87272727272727,49.611123198529725L129,68.87002851946013L100.36363636363636,59.52707419762635L76.83636363636364,77.86641216919732L74.8,86.71163091512588L70,101.5485786766141L68.92727272727272,90.11421505670111L57.58181818181818,107.275572515437L48.45454545454545,88.0712117591157L47.27272727272727,112.12836925867448L43.018181818181816,105.07401900767141L38.90909090909091,96.63349482666959L38.32727272727273,99.24341495068828L36.74545454545455,107.20324451303881L35.709090909090904,104.173336903831L32.054545454545455,98.54284833099905L28.745454545454546,97.6589758988223L22.963636363636365,115.44446862368552L16.945454545454545,129.11916273877426L13.127272727272727,122.9219238180821L12.4,145.3415264739958L11.927272727272726,138.97161504970413L5.581818181818181,124.40924799037973L1.5272727272727273,139.81115699801177\" style=\"fill: none; stroke: #f58518; stroke-width: 2;\"></path></g></g></g><g transform=\"translate(0,0)\"><path class=\"background\" d=\"M0,0h200v200h-200Z\" style=\"fill: none;\"></path><g><g class=\"mark-line role-mark marks\"><path d=\"M192.25454545454545,33.333333333333314L145.87272727272727,33.333333333333314L129,66.66666666666669L100.36363636363636,33.333333333333314L76.83636363636364,66.66666666666669L74.8,100L70,100L68.92727272727272,100L57.58181818181818,100L48.45454545454545,100L47.27272727272727,100L43.018181818181816,133.33333333333334L38.90909090909091,100L38.32727272727273,100L36.74545454545455,133.33333333333334L35.709090909090904,100L32.054545454545455,100L28.745454545454546,100L22.963636363636365,133.33333333333334L16.945454545454545,133.33333333333334L13.127272727272727,133.33333333333334L12.4,133.33333333333334L11.927272727272726,133.33333333333334L5.581818181818181,133.33333333333334L1.5272727272727273,133.33333333333334\" style=\"fill: none; stroke: #4c78a8; stroke-width: 2;\"></path></g></g></g></g><g class=\"mark-group role-legend\"><g transform=\"translate(218,0)\"><path class=\"background\" d=\"M0,0h113v61h-113Z\" style=\"pointer-events: none; fill: none;\"></path><g><g class=\"mark-group role-legend-entry\"><g transform=\"translate(0,16)\"><path class=\"background\" d=\"M0,0h0v0h0Z\" style=\"pointer-events: none; fill: none;\"></path><g><g class=\"mark-group role-scope\"><g transform=\"translate(0,0)\"><path class=\"background\" d=\"M0,0h113v12.5h-113Z\" style=\"pointer-events: none; fill: none; opacity: 1;\"></path><g><g class=\"mark-symbol role-legend-symbol\" style=\"pointer-events: none;\"><path transform=\"translate(6,6)\" d=\"M5,0A5,5,0,1,1,-5,0A5,5,0,1,1,5,0\" style=\"fill: none; stroke: #4c78a8; stroke-width: 1.5; opacity: 1;\"></path></g><g class=\"mark-text role-legend-label\" style=\"pointer-events: none;\"><text text-anchor=\"start\" transform=\"translate(16,9)\" style=\"font-family: sans-serif; font-size: 10px; fill: #000; opacity: 1;\">Model fitted</text></g></g></g><g transform=\"translate(0,16)\"><path class=\"background\" d=\"M0,0h113v12.5h-113Z\" style=\"pointer-events: none; fill: none; opacity: 1;\"></path><g><g class=\"mark-symbol role-legend-symbol\" style=\"pointer-events: none;\"><path transform=\"translate(6,6)\" d=\"M5,0A5,5,0,1,1,-5,0A5,5,0,1,1,5,0\" style=\"fill: none; stroke: #f58518; stroke-width: 1.5; opacity: 1;\"></path></g><g class=\"mark-text role-legend-label\" style=\"pointer-events: none;\"><text text-anchor=\"start\" transform=\"translate(16,9)\" style=\"font-family: sans-serif; font-size: 10px; fill: #000; opacity: 1;\">OLS fitted</text></g></g></g><g transform=\"translate(0,32)\"><path class=\"background\" d=\"M0,0h113v12.5h-113Z\" style=\"pointer-events: none; fill: none; opacity: 1;\"></path><g><g class=\"mark-symbol role-legend-symbol\" style=\"pointer-events: none;\"><path transform=\"translate(6,6)\" d=\"M5,0A5,5,0,1,1,-5,0A5,5,0,1,1,5,0\" style=\"fill: none; stroke: #e45756; stroke-width: 1.5; opacity: 1;\"></path></g><g class=\"mark-text role-legend-label\" style=\"pointer-events: none;\"><text text-anchor=\"start\" transform=\"translate(16,9)\" style=\"font-family: sans-serif; font-size: 10px; fill: #000; opacity: 1;\">actual</text></g></g></g></g></g></g></g><g class=\"mark-text role-legend-title\" style=\"pointer-events: none;\"><text text-anchor=\"start\" transform=\"translate(0,9)\" style=\"font-family: sans-serif; font-size: 11px; font-weight: bold; fill: #000; opacity: 1;\">method</text></g></g></g></g><g class=\"mark-text role-title\" style=\"pointer-events: none;\"><text text-anchor=\"middle\" transform=\"translate(142,-13)\" style=\"font-family: sans-serif; font-size: 13px; font-weight: bold; fill: #000; opacity: 1;\">Model Fit 2</text></g><g class=\"mark-group role-axis\"><g transform=\"translate(0.5,200.5)\"><path class=\"background\" d=\"M0,0h0v0h0Z\" style=\"pointer-events: none; fill: none;\"></path><g><g class=\"mark-rule role-axis-tick\" style=\"pointer-events: none;\"><line transform=\"translate(18,0)\" x2=\"0\" y2=\"5\" style=\"fill: none; stroke: #888; stroke-width: 1; opacity: 1;\"></line><line transform=\"translate(55,0)\" x2=\"0\" y2=\"5\" style=\"fill: none; stroke: #888; stroke-width: 1; opacity: 1;\"></line><line transform=\"translate(91,0)\" x2=\"0\" y2=\"5\" style=\"fill: none; stroke: #888; stroke-width: 1; opacity: 1;\"></line><line transform=\"translate(127,0)\" x2=\"0\" y2=\"5\" style=\"fill: none; stroke: #888; stroke-width: 1; opacity: 1;\"></line><line transform=\"translate(164,0)\" x2=\"0\" y2=\"5\" style=\"fill: none; stroke: #888; stroke-width: 1; opacity: 1;\"></line><line transform=\"translate(200,0)\" x2=\"0\" y2=\"5\" style=\"fill: none; stroke: #888; stroke-width: 1; opacity: 1;\"></line></g><g class=\"mark-text role-axis-label\" style=\"pointer-events: none;\"><text text-anchor=\"middle\" transform=\"translate(18.181818181818183,15)\" style=\"font-family: sans-serif; font-size: 10px; fill: #000; opacity: 1;\">2,000</text><text text-anchor=\"middle\" transform=\"translate(54.54545454545454,15)\" style=\"font-family: sans-serif; font-size: 10px; fill: #000; opacity: 0;\">4,000</text><text text-anchor=\"middle\" transform=\"translate(90.9090909090909,15)\" style=\"font-family: sans-serif; font-size: 10px; fill: #000; opacity: 1;\">6,000</text><text text-anchor=\"middle\" transform=\"translate(127.27272727272727,15)\" style=\"font-family: sans-serif; font-size: 10px; fill: #000; opacity: 0;\">8,000</text><text text-anchor=\"middle\" transform=\"translate(163.63636363636365,15)\" style=\"font-family: sans-serif; font-size: 10px; fill: #000; opacity: 1;\">10,000</text><text text-anchor=\"end\" transform=\"translate(200,15)\" style=\"font-family: sans-serif; font-size: 10px; fill: #000; opacity: 0;\">12,000</text></g><g class=\"mark-rule role-axis-domain\" style=\"pointer-events: none;\"><line transform=\"translate(0,0)\" x2=\"200\" y2=\"0\" style=\"fill: none; stroke: #888; stroke-width: 1; opacity: 1;\"></line></g><g class=\"mark-text role-axis-title\" style=\"pointer-events: none;\"><text text-anchor=\"middle\" transform=\"translate(100,31)\" style=\"font-family: sans-serif; font-size: 11px; font-weight: bold; fill: #000; opacity: 1;\">Population</text></g></g></g></g><g class=\"mark-group role-axis\"><g transform=\"translate(0.5,0.5)\"><path class=\"background\" d=\"M0,0h0v0h0Z\" style=\"pointer-events: none; fill: none;\"></path><g><g class=\"mark-rule role-axis-tick\" style=\"pointer-events: none;\"><line transform=\"translate(0,200)\" x2=\"-5\" y2=\"0\" style=\"fill: none; stroke: #888; stroke-width: 1; opacity: 1;\"></line><line transform=\"translate(0,167)\" x2=\"-5\" y2=\"0\" style=\"fill: none; stroke: #888; stroke-width: 1; opacity: 1;\"></line><line transform=\"translate(0,133)\" x2=\"-5\" y2=\"0\" style=\"fill: none; stroke: #888; stroke-width: 1; opacity: 1;\"></line><line transform=\"translate(0,100)\" x2=\"-5\" y2=\"0\" style=\"fill: none; stroke: #888; stroke-width: 1; opacity: 1;\"></line><line transform=\"translate(0,67)\" x2=\"-5\" y2=\"0\" style=\"fill: none; stroke: #888; stroke-width: 1; opacity: 1;\"></line><line transform=\"translate(0,33)\" x2=\"-5\" y2=\"0\" style=\"fill: none; stroke: #888; stroke-width: 1; opacity: 1;\"></line><line transform=\"translate(0,0)\" x2=\"-5\" y2=\"0\" style=\"fill: none; stroke: #888; stroke-width: 1; opacity: 1;\"></line></g><g class=\"mark-text role-axis-label\" style=\"pointer-events: none;\"><text text-anchor=\"end\" transform=\"translate(-7,203)\" style=\"font-family: sans-serif; font-size: 10px; fill: #000; opacity: 1;\">0</text><text text-anchor=\"end\" transform=\"translate(-7,169.66666666666669)\" style=\"font-family: sans-serif; font-size: 10px; fill: #000; opacity: 1;\">1</text><text text-anchor=\"end\" transform=\"translate(-7,136.33333333333334)\" style=\"font-family: sans-serif; font-size: 10px; fill: #000; opacity: 1;\">2</text><text text-anchor=\"end\" transform=\"translate(-7,103)\" style=\"font-family: sans-serif; font-size: 10px; fill: #000; opacity: 1;\">3</text><text text-anchor=\"end\" transform=\"translate(-7,69.66666666666669)\" style=\"font-family: sans-serif; font-size: 10px; fill: #000; opacity: 1;\">4</text><text text-anchor=\"end\" transform=\"translate(-7,36.333333333333314)\" style=\"font-family: sans-serif; font-size: 10px; fill: #000; opacity: 1;\">5</text><text text-anchor=\"end\" transform=\"translate(-7,3)\" style=\"font-family: sans-serif; font-size: 10px; fill: #000; opacity: 1;\">6</text></g><g class=\"mark-rule role-axis-domain\" style=\"pointer-events: none;\"><line transform=\"translate(0,200)\" x2=\"0\" y2=\"-200\" style=\"fill: none; stroke: #888; stroke-width: 1; opacity: 1;\"></line></g><g class=\"mark-text role-axis-title\" style=\"pointer-events: none;\"><text text-anchor=\"middle\" transform=\"translate(-34,100) rotate(-90) translate(0,-2)\" style=\"font-family: sans-serif; font-size: 11px; font-weight: bold; fill: #000; opacity: 1;\">pharmacies</text></g></g></g></g></g></g></g></g></svg>"
      ],
      "text/plain": [
       "VegaLite.VLSpec{:plot}"
      ]
     },
     "execution_count": 373,
     "metadata": {},
     "output_type": "execute_result"
    }
   ],
   "source": [
    "#Creating the line graph\n",
    "\n",
    "AllCutFinal |>\n",
    "@vlplot(:line,enc={x=:Population,y=:pharmacies,color=:method}, title = \"Model Fit 2\")"
   ]
  },
  {
   "cell_type": "markdown",
   "metadata": {},
   "source": [
    "This is a little better. It is still somehwat difficult to see if either model is capturing the trend\n",
    "in the data. We do see a large spike in the actual data once we hit a population of 6000, which looks to be captured\n",
    "slightly better by our fitted model in comparison to the OLS fitted model. \n"
   ]
  },
  {
   "cell_type": "markdown",
   "metadata": {},
   "source": [
    "### Problem 5: Model Entry Thresholds"
   ]
  },
  {
   "cell_type": "code",
   "execution_count": 380,
   "metadata": {},
   "outputs": [
    {
     "data": {
      "text/plain": [
       "1×2 Array{Float64,2}:\n",
       " -0.295052  1.26234"
      ]
     },
     "execution_count": 380,
     "metadata": {},
     "output_type": "execute_result"
    }
   ],
   "source": [
    "using ForwardDiff\n",
    "# delta method demo\n",
    "X = convert(Matrix, CleanData1[x])\n",
    "W = convert(Matrix, CleanData1[w])\n",
    "Xbar = mapslices(mean, X, dims = 1)\n",
    "Wbar = mapslices(mean, W, dims = 1)"
   ]
  },
  {
   "cell_type": "code",
   "execution_count": 391,
   "metadata": {},
   "outputs": [
    {
     "data": {
      "text/plain": [
       "func_of_estimate (generic function with 1 method)"
      ]
     },
     "execution_count": 391,
     "metadata": {},
     "output_type": "execute_result"
    }
   ],
   "source": [
    "function func_of_estimate(θ)\n",
    "   (α, β, γ, δ) = unpack(θ)\n",
    "    y = zeros(length(α))\n",
    "    y[1] = (γ[1] + sum(Wbar.*δ)) / (sum(Xbar.*β) + α[1])\n",
    "for i in 2:length(α)\n",
    "    y[i] = (sum(γ[1:i])+ sum(Wbar.*δ)) / (sum(Xbar.*β) + sum(α[1:i]))\n",
    "    end\n",
    "    return(y)\n",
    "end\n"
   ]
  },
  {
   "cell_type": "code",
   "execution_count": 393,
   "metadata": {},
   "outputs": [
    {
     "data": {
      "image/svg+xml": [
       "<?xml version=\"1.0\" encoding=\"utf-8\"?>\n",
       "<svg xmlns=\"http://www.w3.org/2000/svg\" xmlns:xlink=\"http://www.w3.org/1999/xlink\" width=\"600\" height=\"400\" viewBox=\"0 0 2400 1600\">\n",
       "<defs>\n",
       "  <clipPath id=\"clip4900\">\n",
       "    <rect x=\"0\" y=\"0\" width=\"2000\" height=\"2000\"/>\n",
       "  </clipPath>\n",
       "</defs>\n",
       "<defs>\n",
       "  <clipPath id=\"clip4901\">\n",
       "    <rect x=\"0\" y=\"0\" width=\"2400\" height=\"1600\"/>\n",
       "  </clipPath>\n",
       "</defs>\n",
       "<polygon clip-path=\"url(#clip4901)\" points=\"\n",
       "0,1600 2400,1600 2400,0 0,0 \n",
       "  \" fill=\"#ffffff\" fill-rule=\"evenodd\" fill-opacity=\"1\"/>\n",
       "<defs>\n",
       "  <clipPath id=\"clip4902\">\n",
       "    <rect x=\"480\" y=\"0\" width=\"1681\" height=\"1600\"/>\n",
       "  </clipPath>\n",
       "</defs>\n",
       "<polygon clip-path=\"url(#clip4901)\" points=\"\n",
       "211.005,1440.48 2321.26,1440.48 2321.26,47.2441 211.005,47.2441 \n",
       "  \" fill=\"#ffffff\" fill-rule=\"evenodd\" fill-opacity=\"1\"/>\n",
       "<defs>\n",
       "  <clipPath id=\"clip4903\">\n",
       "    <rect x=\"211\" y=\"47\" width=\"2111\" height=\"1394\"/>\n",
       "  </clipPath>\n",
       "</defs>\n",
       "<polyline clip-path=\"url(#clip4903)\" style=\"stroke:#000000; stroke-width:2; stroke-opacity:0.1; fill:none\" points=\"\n",
       "  270.729,1440.48 270.729,47.2441 \n",
       "  \"/>\n",
       "<polyline clip-path=\"url(#clip4903)\" style=\"stroke:#000000; stroke-width:2; stroke-opacity:0.1; fill:none\" points=\"\n",
       "  668.89,1440.48 668.89,47.2441 \n",
       "  \"/>\n",
       "<polyline clip-path=\"url(#clip4903)\" style=\"stroke:#000000; stroke-width:2; stroke-opacity:0.1; fill:none\" points=\"\n",
       "  1067.05,1440.48 1067.05,47.2441 \n",
       "  \"/>\n",
       "<polyline clip-path=\"url(#clip4903)\" style=\"stroke:#000000; stroke-width:2; stroke-opacity:0.1; fill:none\" points=\"\n",
       "  1465.21,1440.48 1465.21,47.2441 \n",
       "  \"/>\n",
       "<polyline clip-path=\"url(#clip4903)\" style=\"stroke:#000000; stroke-width:2; stroke-opacity:0.1; fill:none\" points=\"\n",
       "  1863.37,1440.48 1863.37,47.2441 \n",
       "  \"/>\n",
       "<polyline clip-path=\"url(#clip4903)\" style=\"stroke:#000000; stroke-width:2; stroke-opacity:0.1; fill:none\" points=\"\n",
       "  2261.54,1440.48 2261.54,47.2441 \n",
       "  \"/>\n",
       "<polyline clip-path=\"url(#clip4903)\" style=\"stroke:#000000; stroke-width:2; stroke-opacity:0.1; fill:none\" points=\"\n",
       "  211.005,1289.08 2321.26,1289.08 \n",
       "  \"/>\n",
       "<polyline clip-path=\"url(#clip4903)\" style=\"stroke:#000000; stroke-width:2; stroke-opacity:0.1; fill:none\" points=\"\n",
       "  211.005,983.01 2321.26,983.01 \n",
       "  \"/>\n",
       "<polyline clip-path=\"url(#clip4903)\" style=\"stroke:#000000; stroke-width:2; stroke-opacity:0.1; fill:none\" points=\"\n",
       "  211.005,676.935 2321.26,676.935 \n",
       "  \"/>\n",
       "<polyline clip-path=\"url(#clip4903)\" style=\"stroke:#000000; stroke-width:2; stroke-opacity:0.1; fill:none\" points=\"\n",
       "  211.005,370.861 2321.26,370.861 \n",
       "  \"/>\n",
       "<polyline clip-path=\"url(#clip4903)\" style=\"stroke:#000000; stroke-width:2; stroke-opacity:0.1; fill:none\" points=\"\n",
       "  211.005,64.786 2321.26,64.786 \n",
       "  \"/>\n",
       "<polyline clip-path=\"url(#clip4901)\" style=\"stroke:#000000; stroke-width:4; stroke-opacity:1; fill:none\" points=\"\n",
       "  211.005,1440.48 2321.26,1440.48 \n",
       "  \"/>\n",
       "<polyline clip-path=\"url(#clip4901)\" style=\"stroke:#000000; stroke-width:4; stroke-opacity:1; fill:none\" points=\"\n",
       "  211.005,1440.48 211.005,47.2441 \n",
       "  \"/>\n",
       "<polyline clip-path=\"url(#clip4901)\" style=\"stroke:#000000; stroke-width:4; stroke-opacity:1; fill:none\" points=\"\n",
       "  270.729,1440.48 270.729,1419.58 \n",
       "  \"/>\n",
       "<polyline clip-path=\"url(#clip4901)\" style=\"stroke:#000000; stroke-width:4; stroke-opacity:1; fill:none\" points=\"\n",
       "  668.89,1440.48 668.89,1419.58 \n",
       "  \"/>\n",
       "<polyline clip-path=\"url(#clip4901)\" style=\"stroke:#000000; stroke-width:4; stroke-opacity:1; fill:none\" points=\"\n",
       "  1067.05,1440.48 1067.05,1419.58 \n",
       "  \"/>\n",
       "<polyline clip-path=\"url(#clip4901)\" style=\"stroke:#000000; stroke-width:4; stroke-opacity:1; fill:none\" points=\"\n",
       "  1465.21,1440.48 1465.21,1419.58 \n",
       "  \"/>\n",
       "<polyline clip-path=\"url(#clip4901)\" style=\"stroke:#000000; stroke-width:4; stroke-opacity:1; fill:none\" points=\"\n",
       "  1863.37,1440.48 1863.37,1419.58 \n",
       "  \"/>\n",
       "<polyline clip-path=\"url(#clip4901)\" style=\"stroke:#000000; stroke-width:4; stroke-opacity:1; fill:none\" points=\"\n",
       "  2261.54,1440.48 2261.54,1419.58 \n",
       "  \"/>\n",
       "<polyline clip-path=\"url(#clip4901)\" style=\"stroke:#000000; stroke-width:4; stroke-opacity:1; fill:none\" points=\"\n",
       "  211.005,1289.08 242.659,1289.08 \n",
       "  \"/>\n",
       "<polyline clip-path=\"url(#clip4901)\" style=\"stroke:#000000; stroke-width:4; stroke-opacity:1; fill:none\" points=\"\n",
       "  211.005,983.01 242.659,983.01 \n",
       "  \"/>\n",
       "<polyline clip-path=\"url(#clip4901)\" style=\"stroke:#000000; stroke-width:4; stroke-opacity:1; fill:none\" points=\"\n",
       "  211.005,676.935 242.659,676.935 \n",
       "  \"/>\n",
       "<polyline clip-path=\"url(#clip4901)\" style=\"stroke:#000000; stroke-width:4; stroke-opacity:1; fill:none\" points=\"\n",
       "  211.005,370.861 242.659,370.861 \n",
       "  \"/>\n",
       "<polyline clip-path=\"url(#clip4901)\" style=\"stroke:#000000; stroke-width:4; stroke-opacity:1; fill:none\" points=\"\n",
       "  211.005,64.786 242.659,64.786 \n",
       "  \"/>\n",
       "<g clip-path=\"url(#clip4901)\">\n",
       "<text style=\"fill:#000000; fill-opacity:1; font-family:Arial,Helvetica Neue,Helvetica,sans-serif; font-size:48px; text-anchor:middle;\" transform=\"rotate(0, 270.729, 1494.48)\" x=\"270.729\" y=\"1494.48\">1</text>\n",
       "</g>\n",
       "<g clip-path=\"url(#clip4901)\">\n",
       "<text style=\"fill:#000000; fill-opacity:1; font-family:Arial,Helvetica Neue,Helvetica,sans-serif; font-size:48px; text-anchor:middle;\" transform=\"rotate(0, 668.89, 1494.48)\" x=\"668.89\" y=\"1494.48\">2</text>\n",
       "</g>\n",
       "<g clip-path=\"url(#clip4901)\">\n",
       "<text style=\"fill:#000000; fill-opacity:1; font-family:Arial,Helvetica Neue,Helvetica,sans-serif; font-size:48px; text-anchor:middle;\" transform=\"rotate(0, 1067.05, 1494.48)\" x=\"1067.05\" y=\"1494.48\">3</text>\n",
       "</g>\n",
       "<g clip-path=\"url(#clip4901)\">\n",
       "<text style=\"fill:#000000; fill-opacity:1; font-family:Arial,Helvetica Neue,Helvetica,sans-serif; font-size:48px; text-anchor:middle;\" transform=\"rotate(0, 1465.21, 1494.48)\" x=\"1465.21\" y=\"1494.48\">4</text>\n",
       "</g>\n",
       "<g clip-path=\"url(#clip4901)\">\n",
       "<text style=\"fill:#000000; fill-opacity:1; font-family:Arial,Helvetica Neue,Helvetica,sans-serif; font-size:48px; text-anchor:middle;\" transform=\"rotate(0, 1863.37, 1494.48)\" x=\"1863.37\" y=\"1494.48\">5</text>\n",
       "</g>\n",
       "<g clip-path=\"url(#clip4901)\">\n",
       "<text style=\"fill:#000000; fill-opacity:1; font-family:Arial,Helvetica Neue,Helvetica,sans-serif; font-size:48px; text-anchor:middle;\" transform=\"rotate(0, 2261.54, 1494.48)\" x=\"2261.54\" y=\"1494.48\">6</text>\n",
       "</g>\n",
       "<g clip-path=\"url(#clip4901)\">\n",
       "<text style=\"fill:#000000; fill-opacity:1; font-family:Arial,Helvetica Neue,Helvetica,sans-serif; font-size:48px; text-anchor:end;\" transform=\"rotate(0, 187.005, 1306.58)\" x=\"187.005\" y=\"1306.58\">0</text>\n",
       "</g>\n",
       "<g clip-path=\"url(#clip4901)\">\n",
       "<text style=\"fill:#000000; fill-opacity:1; font-family:Arial,Helvetica Neue,Helvetica,sans-serif; font-size:48px; text-anchor:end;\" transform=\"rotate(0, 187.005, 1000.51)\" x=\"187.005\" y=\"1000.51\">10</text>\n",
       "</g>\n",
       "<g clip-path=\"url(#clip4901)\">\n",
       "<text style=\"fill:#000000; fill-opacity:1; font-family:Arial,Helvetica Neue,Helvetica,sans-serif; font-size:48px; text-anchor:end;\" transform=\"rotate(0, 187.005, 694.435)\" x=\"187.005\" y=\"694.435\">20</text>\n",
       "</g>\n",
       "<g clip-path=\"url(#clip4901)\">\n",
       "<text style=\"fill:#000000; fill-opacity:1; font-family:Arial,Helvetica Neue,Helvetica,sans-serif; font-size:48px; text-anchor:end;\" transform=\"rotate(0, 187.005, 388.361)\" x=\"187.005\" y=\"388.361\">30</text>\n",
       "</g>\n",
       "<g clip-path=\"url(#clip4901)\">\n",
       "<text style=\"fill:#000000; fill-opacity:1; font-family:Arial,Helvetica Neue,Helvetica,sans-serif; font-size:48px; text-anchor:end;\" transform=\"rotate(0, 187.005, 82.286)\" x=\"187.005\" y=\"82.286\">40</text>\n",
       "</g>\n",
       "<g clip-path=\"url(#clip4901)\">\n",
       "<text style=\"fill:#000000; fill-opacity:1; font-family:Arial,Helvetica Neue,Helvetica,sans-serif; font-size:66px; text-anchor:middle;\" transform=\"rotate(0, 1266.13, 1590.4)\" x=\"1266.13\" y=\"1590.4\">Number of Pharmacies</text>\n",
       "</g>\n",
       "<g clip-path=\"url(#clip4901)\">\n",
       "<text style=\"fill:#000000; fill-opacity:1; font-family:Arial,Helvetica Neue,Helvetica,sans-serif; font-size:66px; text-anchor:middle;\" transform=\"rotate(-90, 57.6, 743.863)\" x=\"57.6\" y=\"743.863\">s6/sn</text>\n",
       "</g>\n",
       "<circle clip-path=\"url(#clip4903)\" style=\"fill:#000000; stroke:none; fill-opacity:1\" cx=\"270.729\" cy=\"1401.05\" r=\"18\"/>\n",
       "<circle clip-path=\"url(#clip4903)\" style=\"fill:#009af9; stroke:none; fill-opacity:1\" cx=\"270.729\" cy=\"1401.05\" r=\"14\"/>\n",
       "<circle clip-path=\"url(#clip4903)\" style=\"fill:#000000; stroke:none; fill-opacity:1\" cx=\"668.89\" cy=\"86.6754\" r=\"18\"/>\n",
       "<circle clip-path=\"url(#clip4903)\" style=\"fill:#009af9; stroke:none; fill-opacity:1\" cx=\"668.89\" cy=\"86.6754\" r=\"14\"/>\n",
       "<circle clip-path=\"url(#clip4903)\" style=\"fill:#000000; stroke:none; fill-opacity:1\" cx=\"1067.05\" cy=\"1208.6\" r=\"18\"/>\n",
       "<circle clip-path=\"url(#clip4903)\" style=\"fill:#009af9; stroke:none; fill-opacity:1\" cx=\"1067.05\" cy=\"1208.6\" r=\"14\"/>\n",
       "<circle clip-path=\"url(#clip4903)\" style=\"fill:#000000; stroke:none; fill-opacity:1\" cx=\"1465.21\" cy=\"1233.75\" r=\"18\"/>\n",
       "<circle clip-path=\"url(#clip4903)\" style=\"fill:#009af9; stroke:none; fill-opacity:1\" cx=\"1465.21\" cy=\"1233.75\" r=\"14\"/>\n",
       "<circle clip-path=\"url(#clip4903)\" style=\"fill:#000000; stroke:none; fill-opacity:1\" cx=\"1863.37\" cy=\"1247.48\" r=\"18\"/>\n",
       "<circle clip-path=\"url(#clip4903)\" style=\"fill:#009af9; stroke:none; fill-opacity:1\" cx=\"1863.37\" cy=\"1247.48\" r=\"14\"/>\n",
       "<circle clip-path=\"url(#clip4903)\" style=\"fill:#000000; stroke:none; fill-opacity:1\" cx=\"2261.54\" cy=\"1258.48\" r=\"18\"/>\n",
       "<circle clip-path=\"url(#clip4903)\" style=\"fill:#009af9; stroke:none; fill-opacity:1\" cx=\"2261.54\" cy=\"1258.48\" r=\"14\"/>\n",
       "<polygon clip-path=\"url(#clip4901)\" points=\"\n",
       "1958.43,251.724 2249.26,251.724 2249.26,130.764 1958.43,130.764 \n",
       "  \" fill=\"#ffffff\" fill-rule=\"evenodd\" fill-opacity=\"1\"/>\n",
       "<polyline clip-path=\"url(#clip4901)\" style=\"stroke:#000000; stroke-width:4; stroke-opacity:1; fill:none\" points=\"\n",
       "  1958.43,251.724 2249.26,251.724 2249.26,130.764 1958.43,130.764 1958.43,251.724 \n",
       "  \"/>\n",
       "<circle clip-path=\"url(#clip4901)\" style=\"fill:#000000; stroke:none; fill-opacity:1\" cx=\"2066.43\" cy=\"191.244\" r=\"25\"/>\n",
       "<circle clip-path=\"url(#clip4901)\" style=\"fill:#009af9; stroke:none; fill-opacity:1\" cx=\"2066.43\" cy=\"191.244\" r=\"21\"/>\n",
       "<g clip-path=\"url(#clip4901)\">\n",
       "<text style=\"fill:#000000; fill-opacity:1; font-family:Arial,Helvetica Neue,Helvetica,sans-serif; font-size:48px; text-anchor:start;\" transform=\"rotate(0, 2150.43, 208.744)\" x=\"2150.43\" y=\"208.744\">y1</text>\n",
       "</g>\n",
       "</svg>\n"
      ]
     },
     "execution_count": 393,
     "metadata": {},
     "output_type": "execute_result"
    }
   ],
   "source": [
    "sn = func_of_estimate(θhat)\n",
    "Sn = sn[length(sn)] ./ sn\n",
    "a = [1:6]\n",
    "\n",
    "scatter(a, Sn, xlabel = \"Number of Pharmacies\", ylabel = \"s6/sn\")"
   ]
  },
  {
   "cell_type": "markdown",
   "metadata": {},
   "source": [
    "So this is somewhat consistent with what we would expect to find. In essance, \n",
    "this says that to support more firms we need a higher population. "
   ]
  },
  {
   "cell_type": "code",
   "execution_count": null,
   "metadata": {},
   "outputs": [],
   "source": []
  }
 ],
 "metadata": {
  "kernelspec": {
   "display_name": "Julia 1.1.0",
   "language": "julia",
   "name": "julia-1.1"
  },
  "language_info": {
   "file_extension": ".jl",
   "mimetype": "application/julia",
   "name": "julia",
   "version": "1.1.0"
  }
 },
 "nbformat": 4,
 "nbformat_minor": 2
}
